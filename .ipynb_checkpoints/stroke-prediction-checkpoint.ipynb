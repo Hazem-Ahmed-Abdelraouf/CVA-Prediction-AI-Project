{
 "cells": [
  {
   "cell_type": "markdown",
   "metadata": {
    "id": "UzeUuF-3NQmK"
   },
   "source": [
    "# This is the project for course WMU102\n",
    "A co-curricular course from Universiti Sains Malaysia, that included multiple topics and focused a lot on Python, Machine Learning and Deep Learning"
   ]
  },
  {
   "cell_type": "markdown",
   "metadata": {
    "id": "-jJiENY2jzUD"
   },
   "source": [
    "## Introduction"
   ]
  },
  {
   "cell_type": "markdown",
   "metadata": {
    "id": "MhCXJqoAkDOV"
   },
   "source": [
    "Cerobrovascular accident (CVA) is the medical term for what is more commonly known as a stroke. This disease occurs when there is a loss of blood flow to the brain. Since there is no oxygen being supplied to that part of the brain, the brain cells start dying within minutes and this could lead to permanent brain damage, disability, or death.\n",
    "\n",
    "Some of the major risk factors that can increase the risk of stroke are:\n",
    "\n",
    "- Gender\n",
    "- High blood pressure\n",
    "- Diabetes\n",
    "- Heart diseases\n",
    "- Age\n",
    "- Race and ethnicity\n",
    "- Lifestyle\n",
    "\n",
    "The use of machine learning in the medical field is a hot topic of research and its usage in a variety of different ways is being actively explored. One potential use of machine learning is in disease prediction. It is thus of interest to attempt to build a model capable of predicting if a stroke would occur based on the factors listed above. This is what we attempt to do in this project.\n",
    "\n",
    "Ref: \n",
    "1. https://medlineplus.gov/stroke.html\n",
    "2. https://www.mayoclinic.org/diseases-conditions/stroke/symptoms-causes/syc-20350113"
   ]
  },
  {
   "cell_type": "markdown",
   "metadata": {
    "id": "902bag_sDZfP"
   },
   "source": [
    "Importing all required libraries for this project"
   ]
  },
  {
   "cell_type": "code",
   "execution_count": 116,
   "metadata": {
    "id": "gYFDCE6D_WGr"
   },
   "outputs": [],
   "source": [
    "import pandas as pd\n",
    "import numpy as np\n",
    "import seaborn as sns\n",
    "import matplotlib.pyplot as plt\n",
    "\n",
    "from sklearn.model_selection import train_test_split\n",
    "from sklearn.metrics import classification_report, accuracy_score, confusion_matrix\n",
    "from imblearn.over_sampling import SMOTE\n",
    "\n",
    "import torch\n",
    "import torch.nn as nn\n",
    "import torch.nn.functional as F\n",
    "\n",
    "from sklearn.ensemble import RandomForestClassifier\n",
    "from sklearn.neighbors import KNeighborsClassifier\n",
    "from sklearn.linear_model import LogisticRegression\n",
    "\n",
    "%matplotlib inline"
   ]
  },
  {
   "cell_type": "markdown",
   "metadata": {
    "id": "5K1_azMOdLOh"
   },
   "source": [
    "## **Data Collection**"
   ]
  },
  {
   "cell_type": "markdown",
   "metadata": {
    "id": "zjJeHRq1DuKP"
   },
   "source": [
    "Dataset is taken from:\n",
    "\n",
    "> fedesoriano. (2021, January). Stroke Prediction Dataset, Version 1. Retrieved December 29, 2021 from https://www.kaggle.com/fedesoriano/stroke-prediction-dataset/version/1.\n",
    "\n",
    "The dataset contain 5,110 observations with 12 attributes. The dataset is used to predict probability of a patient get a stroke based on attributes provided such as gender, age, varioues diseases, and smoking status. \n",
    "\n",
    "The dataset contain 12 attributes which are:\n",
    "1. id: unique identifier\n",
    "2. gender: Male, Female, Other\n",
    "3. age: age of the patient\n",
    "4. hypertension: 0(doesn't have hypertension), 1(does have hypertension)\n",
    "5. heart_disease: 0(doesn't have any heart disease), 1(does have a heart disease)\n",
    "6. ever_married: No, Yes\n",
    "7. work_type: children, Govt_job, Never_worked, Private, Self-employed\n",
    "8. Residence_type: Rural, Urban\n",
    "9. avg_glucose_level: average glucose level in blood\n",
    "10. bmi: body mass index \n",
    "11. smoking_status: formerly smoked, never smoked, smoke, Unknown\n",
    "12. stroke: 0(doesn't have stroke), 1(does have stroke)\n",
    "\n"
   ]
  },
  {
   "cell_type": "code",
   "execution_count": 117,
   "metadata": {
    "id": "18J9io8Jiaf9"
   },
   "outputs": [],
   "source": [
    "df = pd.read_csv('./stroke-dataset.csv',)"
   ]
  },
  {
   "cell_type": "code",
   "execution_count": 118,
   "metadata": {
    "colab": {
     "base_uri": "https://localhost:8080/",
     "height": 557
    },
    "id": "SJwGFiAImwlY",
    "outputId": "9d927198-4c5c-45fa-8394-b65a95c6962a"
   },
   "outputs": [
    {
     "data": {
      "text/html": [
       "<div>\n",
       "<style scoped>\n",
       "    .dataframe tbody tr th:only-of-type {\n",
       "        vertical-align: middle;\n",
       "    }\n",
       "\n",
       "    .dataframe tbody tr th {\n",
       "        vertical-align: top;\n",
       "    }\n",
       "\n",
       "    .dataframe thead th {\n",
       "        text-align: right;\n",
       "    }\n",
       "</style>\n",
       "<table border=\"1\" class=\"dataframe\">\n",
       "  <thead>\n",
       "    <tr style=\"text-align: right;\">\n",
       "      <th></th>\n",
       "      <th>id</th>\n",
       "      <th>gender</th>\n",
       "      <th>age</th>\n",
       "      <th>hypertension</th>\n",
       "      <th>heart_disease</th>\n",
       "      <th>ever_married</th>\n",
       "      <th>work_type</th>\n",
       "      <th>Residence_type</th>\n",
       "      <th>avg_glucose_level</th>\n",
       "      <th>bmi</th>\n",
       "      <th>smoking_status</th>\n",
       "      <th>stroke</th>\n",
       "    </tr>\n",
       "  </thead>\n",
       "  <tbody>\n",
       "    <tr>\n",
       "      <th>0</th>\n",
       "      <td>9046</td>\n",
       "      <td>Male</td>\n",
       "      <td>67.0</td>\n",
       "      <td>0</td>\n",
       "      <td>1</td>\n",
       "      <td>Yes</td>\n",
       "      <td>Private</td>\n",
       "      <td>Urban</td>\n",
       "      <td>228.69</td>\n",
       "      <td>36.6</td>\n",
       "      <td>formerly smoked</td>\n",
       "      <td>1</td>\n",
       "    </tr>\n",
       "    <tr>\n",
       "      <th>1</th>\n",
       "      <td>51676</td>\n",
       "      <td>Female</td>\n",
       "      <td>61.0</td>\n",
       "      <td>0</td>\n",
       "      <td>0</td>\n",
       "      <td>Yes</td>\n",
       "      <td>Self-employed</td>\n",
       "      <td>Rural</td>\n",
       "      <td>202.21</td>\n",
       "      <td>NaN</td>\n",
       "      <td>never smoked</td>\n",
       "      <td>1</td>\n",
       "    </tr>\n",
       "    <tr>\n",
       "      <th>2</th>\n",
       "      <td>31112</td>\n",
       "      <td>Male</td>\n",
       "      <td>80.0</td>\n",
       "      <td>0</td>\n",
       "      <td>1</td>\n",
       "      <td>Yes</td>\n",
       "      <td>Private</td>\n",
       "      <td>Rural</td>\n",
       "      <td>105.92</td>\n",
       "      <td>32.5</td>\n",
       "      <td>never smoked</td>\n",
       "      <td>1</td>\n",
       "    </tr>\n",
       "    <tr>\n",
       "      <th>3</th>\n",
       "      <td>60182</td>\n",
       "      <td>Female</td>\n",
       "      <td>49.0</td>\n",
       "      <td>0</td>\n",
       "      <td>0</td>\n",
       "      <td>Yes</td>\n",
       "      <td>Private</td>\n",
       "      <td>Urban</td>\n",
       "      <td>171.23</td>\n",
       "      <td>34.4</td>\n",
       "      <td>smokes</td>\n",
       "      <td>1</td>\n",
       "    </tr>\n",
       "    <tr>\n",
       "      <th>4</th>\n",
       "      <td>1665</td>\n",
       "      <td>Female</td>\n",
       "      <td>79.0</td>\n",
       "      <td>1</td>\n",
       "      <td>0</td>\n",
       "      <td>Yes</td>\n",
       "      <td>Self-employed</td>\n",
       "      <td>Rural</td>\n",
       "      <td>174.12</td>\n",
       "      <td>24.0</td>\n",
       "      <td>never smoked</td>\n",
       "      <td>1</td>\n",
       "    </tr>\n",
       "    <tr>\n",
       "      <th>...</th>\n",
       "      <td>...</td>\n",
       "      <td>...</td>\n",
       "      <td>...</td>\n",
       "      <td>...</td>\n",
       "      <td>...</td>\n",
       "      <td>...</td>\n",
       "      <td>...</td>\n",
       "      <td>...</td>\n",
       "      <td>...</td>\n",
       "      <td>...</td>\n",
       "      <td>...</td>\n",
       "      <td>...</td>\n",
       "    </tr>\n",
       "    <tr>\n",
       "      <th>5105</th>\n",
       "      <td>18234</td>\n",
       "      <td>Female</td>\n",
       "      <td>80.0</td>\n",
       "      <td>1</td>\n",
       "      <td>0</td>\n",
       "      <td>Yes</td>\n",
       "      <td>Private</td>\n",
       "      <td>Urban</td>\n",
       "      <td>83.75</td>\n",
       "      <td>NaN</td>\n",
       "      <td>never smoked</td>\n",
       "      <td>0</td>\n",
       "    </tr>\n",
       "    <tr>\n",
       "      <th>5106</th>\n",
       "      <td>44873</td>\n",
       "      <td>Female</td>\n",
       "      <td>81.0</td>\n",
       "      <td>0</td>\n",
       "      <td>0</td>\n",
       "      <td>Yes</td>\n",
       "      <td>Self-employed</td>\n",
       "      <td>Urban</td>\n",
       "      <td>125.20</td>\n",
       "      <td>40.0</td>\n",
       "      <td>never smoked</td>\n",
       "      <td>0</td>\n",
       "    </tr>\n",
       "    <tr>\n",
       "      <th>5107</th>\n",
       "      <td>19723</td>\n",
       "      <td>Female</td>\n",
       "      <td>35.0</td>\n",
       "      <td>0</td>\n",
       "      <td>0</td>\n",
       "      <td>Yes</td>\n",
       "      <td>Self-employed</td>\n",
       "      <td>Rural</td>\n",
       "      <td>82.99</td>\n",
       "      <td>30.6</td>\n",
       "      <td>never smoked</td>\n",
       "      <td>0</td>\n",
       "    </tr>\n",
       "    <tr>\n",
       "      <th>5108</th>\n",
       "      <td>37544</td>\n",
       "      <td>Male</td>\n",
       "      <td>51.0</td>\n",
       "      <td>0</td>\n",
       "      <td>0</td>\n",
       "      <td>Yes</td>\n",
       "      <td>Private</td>\n",
       "      <td>Rural</td>\n",
       "      <td>166.29</td>\n",
       "      <td>25.6</td>\n",
       "      <td>formerly smoked</td>\n",
       "      <td>0</td>\n",
       "    </tr>\n",
       "    <tr>\n",
       "      <th>5109</th>\n",
       "      <td>44679</td>\n",
       "      <td>Female</td>\n",
       "      <td>44.0</td>\n",
       "      <td>0</td>\n",
       "      <td>0</td>\n",
       "      <td>Yes</td>\n",
       "      <td>Govt_job</td>\n",
       "      <td>Urban</td>\n",
       "      <td>85.28</td>\n",
       "      <td>26.2</td>\n",
       "      <td>Unknown</td>\n",
       "      <td>0</td>\n",
       "    </tr>\n",
       "  </tbody>\n",
       "</table>\n",
       "<p>5110 rows × 12 columns</p>\n",
       "</div>"
      ],
      "text/plain": [
       "         id  gender   age  hypertension  heart_disease ever_married  \\\n",
       "0      9046    Male  67.0             0              1          Yes   \n",
       "1     51676  Female  61.0             0              0          Yes   \n",
       "2     31112    Male  80.0             0              1          Yes   \n",
       "3     60182  Female  49.0             0              0          Yes   \n",
       "4      1665  Female  79.0             1              0          Yes   \n",
       "...     ...     ...   ...           ...            ...          ...   \n",
       "5105  18234  Female  80.0             1              0          Yes   \n",
       "5106  44873  Female  81.0             0              0          Yes   \n",
       "5107  19723  Female  35.0             0              0          Yes   \n",
       "5108  37544    Male  51.0             0              0          Yes   \n",
       "5109  44679  Female  44.0             0              0          Yes   \n",
       "\n",
       "          work_type Residence_type  avg_glucose_level   bmi   smoking_status  \\\n",
       "0           Private          Urban             228.69  36.6  formerly smoked   \n",
       "1     Self-employed          Rural             202.21   NaN     never smoked   \n",
       "2           Private          Rural             105.92  32.5     never smoked   \n",
       "3           Private          Urban             171.23  34.4           smokes   \n",
       "4     Self-employed          Rural             174.12  24.0     never smoked   \n",
       "...             ...            ...                ...   ...              ...   \n",
       "5105        Private          Urban              83.75   NaN     never smoked   \n",
       "5106  Self-employed          Urban             125.20  40.0     never smoked   \n",
       "5107  Self-employed          Rural              82.99  30.6     never smoked   \n",
       "5108        Private          Rural             166.29  25.6  formerly smoked   \n",
       "5109       Govt_job          Urban              85.28  26.2          Unknown   \n",
       "\n",
       "      stroke  \n",
       "0          1  \n",
       "1          1  \n",
       "2          1  \n",
       "3          1  \n",
       "4          1  \n",
       "...      ...  \n",
       "5105       0  \n",
       "5106       0  \n",
       "5107       0  \n",
       "5108       0  \n",
       "5109       0  \n",
       "\n",
       "[5110 rows x 12 columns]"
      ]
     },
     "execution_count": 118,
     "metadata": {},
     "output_type": "execute_result"
    }
   ],
   "source": [
    "df"
   ]
  },
  {
   "cell_type": "markdown",
   "metadata": {
    "id": "zWv4g-1BCIdI"
   },
   "source": [
    "In this dataset we see that the factors recorded are gender, age, hypertension, heart disease, ever married, work type,residence type, average glucose level, body mass index (BMI), and smoking status."
   ]
  },
  {
   "cell_type": "markdown",
   "metadata": {
    "id": "KqCIvyjXNrzv"
   },
   "source": [
    "## EDA and Data Visualisation"
   ]
  },
  {
   "cell_type": "code",
   "execution_count": 119,
   "metadata": {
    "id": "0mtrd9SKsJCS"
   },
   "outputs": [],
   "source": [
    "df = df.dropna(how='any',axis=0)"
   ]
  },
  {
   "cell_type": "code",
   "execution_count": 120,
   "metadata": {
    "colab": {
     "base_uri": "https://localhost:8080/",
     "height": 458
    },
    "id": "GgPJvoprVUk6",
    "outputId": "df34e13e-3946-417a-fb6d-ff25be2d744a"
   },
   "outputs": [
    {
     "data": {
      "text/html": [
       "<div>\n",
       "<style scoped>\n",
       "    .dataframe tbody tr th:only-of-type {\n",
       "        vertical-align: middle;\n",
       "    }\n",
       "\n",
       "    .dataframe tbody tr th {\n",
       "        vertical-align: top;\n",
       "    }\n",
       "\n",
       "    .dataframe thead th {\n",
       "        text-align: right;\n",
       "    }\n",
       "</style>\n",
       "<table border=\"1\" class=\"dataframe\">\n",
       "  <thead>\n",
       "    <tr style=\"text-align: right;\">\n",
       "      <th></th>\n",
       "      <th>id</th>\n",
       "      <th>gender</th>\n",
       "      <th>age</th>\n",
       "      <th>hypertension</th>\n",
       "      <th>heart_disease</th>\n",
       "      <th>ever_married</th>\n",
       "      <th>work_type</th>\n",
       "      <th>Residence_type</th>\n",
       "      <th>avg_glucose_level</th>\n",
       "      <th>bmi</th>\n",
       "      <th>smoking_status</th>\n",
       "      <th>stroke</th>\n",
       "    </tr>\n",
       "  </thead>\n",
       "  <tbody>\n",
       "    <tr>\n",
       "      <th>count</th>\n",
       "      <td>4909.000000</td>\n",
       "      <td>4909</td>\n",
       "      <td>4909.000000</td>\n",
       "      <td>4909.000000</td>\n",
       "      <td>4909.000000</td>\n",
       "      <td>4909</td>\n",
       "      <td>4909</td>\n",
       "      <td>4909</td>\n",
       "      <td>4909.000000</td>\n",
       "      <td>4909.000000</td>\n",
       "      <td>4909</td>\n",
       "      <td>4909.000000</td>\n",
       "    </tr>\n",
       "    <tr>\n",
       "      <th>unique</th>\n",
       "      <td>NaN</td>\n",
       "      <td>3</td>\n",
       "      <td>NaN</td>\n",
       "      <td>NaN</td>\n",
       "      <td>NaN</td>\n",
       "      <td>2</td>\n",
       "      <td>5</td>\n",
       "      <td>2</td>\n",
       "      <td>NaN</td>\n",
       "      <td>NaN</td>\n",
       "      <td>4</td>\n",
       "      <td>NaN</td>\n",
       "    </tr>\n",
       "    <tr>\n",
       "      <th>top</th>\n",
       "      <td>NaN</td>\n",
       "      <td>Female</td>\n",
       "      <td>NaN</td>\n",
       "      <td>NaN</td>\n",
       "      <td>NaN</td>\n",
       "      <td>Yes</td>\n",
       "      <td>Private</td>\n",
       "      <td>Urban</td>\n",
       "      <td>NaN</td>\n",
       "      <td>NaN</td>\n",
       "      <td>never smoked</td>\n",
       "      <td>NaN</td>\n",
       "    </tr>\n",
       "    <tr>\n",
       "      <th>freq</th>\n",
       "      <td>NaN</td>\n",
       "      <td>2897</td>\n",
       "      <td>NaN</td>\n",
       "      <td>NaN</td>\n",
       "      <td>NaN</td>\n",
       "      <td>3204</td>\n",
       "      <td>2811</td>\n",
       "      <td>2490</td>\n",
       "      <td>NaN</td>\n",
       "      <td>NaN</td>\n",
       "      <td>1852</td>\n",
       "      <td>NaN</td>\n",
       "    </tr>\n",
       "    <tr>\n",
       "      <th>mean</th>\n",
       "      <td>37064.313506</td>\n",
       "      <td>NaN</td>\n",
       "      <td>42.865374</td>\n",
       "      <td>0.091872</td>\n",
       "      <td>0.049501</td>\n",
       "      <td>NaN</td>\n",
       "      <td>NaN</td>\n",
       "      <td>NaN</td>\n",
       "      <td>105.305150</td>\n",
       "      <td>28.893237</td>\n",
       "      <td>NaN</td>\n",
       "      <td>0.042575</td>\n",
       "    </tr>\n",
       "    <tr>\n",
       "      <th>std</th>\n",
       "      <td>20995.098457</td>\n",
       "      <td>NaN</td>\n",
       "      <td>22.555115</td>\n",
       "      <td>0.288875</td>\n",
       "      <td>0.216934</td>\n",
       "      <td>NaN</td>\n",
       "      <td>NaN</td>\n",
       "      <td>NaN</td>\n",
       "      <td>44.424341</td>\n",
       "      <td>7.854067</td>\n",
       "      <td>NaN</td>\n",
       "      <td>0.201917</td>\n",
       "    </tr>\n",
       "    <tr>\n",
       "      <th>min</th>\n",
       "      <td>77.000000</td>\n",
       "      <td>NaN</td>\n",
       "      <td>0.080000</td>\n",
       "      <td>0.000000</td>\n",
       "      <td>0.000000</td>\n",
       "      <td>NaN</td>\n",
       "      <td>NaN</td>\n",
       "      <td>NaN</td>\n",
       "      <td>55.120000</td>\n",
       "      <td>10.300000</td>\n",
       "      <td>NaN</td>\n",
       "      <td>0.000000</td>\n",
       "    </tr>\n",
       "    <tr>\n",
       "      <th>25%</th>\n",
       "      <td>18605.000000</td>\n",
       "      <td>NaN</td>\n",
       "      <td>25.000000</td>\n",
       "      <td>0.000000</td>\n",
       "      <td>0.000000</td>\n",
       "      <td>NaN</td>\n",
       "      <td>NaN</td>\n",
       "      <td>NaN</td>\n",
       "      <td>77.070000</td>\n",
       "      <td>23.500000</td>\n",
       "      <td>NaN</td>\n",
       "      <td>0.000000</td>\n",
       "    </tr>\n",
       "    <tr>\n",
       "      <th>50%</th>\n",
       "      <td>37608.000000</td>\n",
       "      <td>NaN</td>\n",
       "      <td>44.000000</td>\n",
       "      <td>0.000000</td>\n",
       "      <td>0.000000</td>\n",
       "      <td>NaN</td>\n",
       "      <td>NaN</td>\n",
       "      <td>NaN</td>\n",
       "      <td>91.680000</td>\n",
       "      <td>28.100000</td>\n",
       "      <td>NaN</td>\n",
       "      <td>0.000000</td>\n",
       "    </tr>\n",
       "    <tr>\n",
       "      <th>75%</th>\n",
       "      <td>55220.000000</td>\n",
       "      <td>NaN</td>\n",
       "      <td>60.000000</td>\n",
       "      <td>0.000000</td>\n",
       "      <td>0.000000</td>\n",
       "      <td>NaN</td>\n",
       "      <td>NaN</td>\n",
       "      <td>NaN</td>\n",
       "      <td>113.570000</td>\n",
       "      <td>33.100000</td>\n",
       "      <td>NaN</td>\n",
       "      <td>0.000000</td>\n",
       "    </tr>\n",
       "    <tr>\n",
       "      <th>max</th>\n",
       "      <td>72940.000000</td>\n",
       "      <td>NaN</td>\n",
       "      <td>82.000000</td>\n",
       "      <td>1.000000</td>\n",
       "      <td>1.000000</td>\n",
       "      <td>NaN</td>\n",
       "      <td>NaN</td>\n",
       "      <td>NaN</td>\n",
       "      <td>271.740000</td>\n",
       "      <td>97.600000</td>\n",
       "      <td>NaN</td>\n",
       "      <td>1.000000</td>\n",
       "    </tr>\n",
       "  </tbody>\n",
       "</table>\n",
       "</div>"
      ],
      "text/plain": [
       "                  id  gender          age  hypertension  heart_disease  \\\n",
       "count    4909.000000    4909  4909.000000   4909.000000    4909.000000   \n",
       "unique           NaN       3          NaN           NaN            NaN   \n",
       "top              NaN  Female          NaN           NaN            NaN   \n",
       "freq             NaN    2897          NaN           NaN            NaN   \n",
       "mean    37064.313506     NaN    42.865374      0.091872       0.049501   \n",
       "std     20995.098457     NaN    22.555115      0.288875       0.216934   \n",
       "min        77.000000     NaN     0.080000      0.000000       0.000000   \n",
       "25%     18605.000000     NaN    25.000000      0.000000       0.000000   \n",
       "50%     37608.000000     NaN    44.000000      0.000000       0.000000   \n",
       "75%     55220.000000     NaN    60.000000      0.000000       0.000000   \n",
       "max     72940.000000     NaN    82.000000      1.000000       1.000000   \n",
       "\n",
       "       ever_married work_type Residence_type  avg_glucose_level          bmi  \\\n",
       "count          4909      4909           4909        4909.000000  4909.000000   \n",
       "unique            2         5              2                NaN          NaN   \n",
       "top             Yes   Private          Urban                NaN          NaN   \n",
       "freq           3204      2811           2490                NaN          NaN   \n",
       "mean            NaN       NaN            NaN         105.305150    28.893237   \n",
       "std             NaN       NaN            NaN          44.424341     7.854067   \n",
       "min             NaN       NaN            NaN          55.120000    10.300000   \n",
       "25%             NaN       NaN            NaN          77.070000    23.500000   \n",
       "50%             NaN       NaN            NaN          91.680000    28.100000   \n",
       "75%             NaN       NaN            NaN         113.570000    33.100000   \n",
       "max             NaN       NaN            NaN         271.740000    97.600000   \n",
       "\n",
       "       smoking_status       stroke  \n",
       "count            4909  4909.000000  \n",
       "unique              4          NaN  \n",
       "top      never smoked          NaN  \n",
       "freq             1852          NaN  \n",
       "mean              NaN     0.042575  \n",
       "std               NaN     0.201917  \n",
       "min               NaN     0.000000  \n",
       "25%               NaN     0.000000  \n",
       "50%               NaN     0.000000  \n",
       "75%               NaN     0.000000  \n",
       "max               NaN     1.000000  "
      ]
     },
     "execution_count": 120,
     "metadata": {},
     "output_type": "execute_result"
    }
   ],
   "source": [
    "df.describe(include='all')"
   ]
  },
  {
   "cell_type": "code",
   "execution_count": 121,
   "metadata": {
    "colab": {
     "base_uri": "https://localhost:8080/"
    },
    "id": "Q1hPAePhKQkt",
    "outputId": "a90fbeb4-fd68-4c26-f5b8-d62652a83baf"
   },
   "outputs": [
    {
     "name": "stdout",
     "output_type": "stream",
     "text": [
      "never smoked       1852\n",
      "Unknown            1483\n",
      "formerly smoked     837\n",
      "smokes              737\n",
      "Name: smoking_status, dtype: int64\n"
     ]
    }
   ],
   "source": [
    "print(df['smoking_status'].value_counts())\n"
   ]
  },
  {
   "cell_type": "markdown",
   "metadata": {
    "id": "HPT1WearDGs-"
   },
   "source": [
    "Smoking status is an important factor. We have dropped the results where they were recorded as unknown lest they affect the results."
   ]
  },
  {
   "cell_type": "code",
   "execution_count": 122,
   "metadata": {
    "colab": {
     "base_uri": "https://localhost:8080/"
    },
    "id": "hVspBiOjxx4F",
    "outputId": "47e1a310-ae50-469b-9a97-f54c0686a832"
   },
   "outputs": [
    {
     "name": "stdout",
     "output_type": "stream",
     "text": [
      "never smoked       1852\n",
      "formerly smoked     837\n",
      "smokes              737\n",
      "Name: smoking_status, dtype: int64\n"
     ]
    }
   ],
   "source": [
    "df = df[df.smoking_status != 'Unknown']\n",
    "print(df['smoking_status'].value_counts())"
   ]
  },
  {
   "cell_type": "markdown",
   "metadata": {
    "id": "T8JOnS9nD4I_"
   },
   "source": [
    "We check the variable gender to see the possible vaues."
   ]
  },
  {
   "cell_type": "code",
   "execution_count": 123,
   "metadata": {
    "colab": {
     "base_uri": "https://localhost:8080/"
    },
    "id": "DoFqSEp9UUQl",
    "outputId": "a46acd8d-6059-473c-e8c3-b4b36cdcc190"
   },
   "outputs": [
    {
     "name": "stdout",
     "output_type": "stream",
     "text": [
      "Female    2086\n",
      "Male      1339\n",
      "Other        1\n",
      "Name: gender, dtype: int64\n"
     ]
    }
   ],
   "source": [
    "print(df['gender'].value_counts())"
   ]
  },
  {
   "cell_type": "markdown",
   "metadata": {
    "id": "SDrJKNF3LeFO"
   },
   "source": [
    "We found out that there is only one record with gender \"other\" so we decided to remove it."
   ]
  },
  {
   "cell_type": "code",
   "execution_count": 124,
   "metadata": {
    "id": "8X_Y-TrsUMo3"
   },
   "outputs": [],
   "source": [
    "df = df[df.gender != 'Other']"
   ]
  },
  {
   "cell_type": "code",
   "execution_count": 125,
   "metadata": {
    "colab": {
     "base_uri": "https://localhost:8080/"
    },
    "id": "Uommn0xFR5rX",
    "outputId": "a909f2ca-6fca-46f4-cfd4-b62abdda5966"
   },
   "outputs": [
    {
     "name": "stdout",
     "output_type": "stream",
     "text": [
      "Female    2086\n",
      "Male      1339\n",
      "Name: gender, dtype: int64\n"
     ]
    }
   ],
   "source": [
    "print(df['gender'].value_counts())"
   ]
  },
  {
   "cell_type": "markdown",
   "metadata": {
    "id": "TVi4hE4xLns_"
   },
   "source": [
    "The ID feature has no meaning to us so we decided to remove it."
   ]
  },
  {
   "cell_type": "code",
   "execution_count": 126,
   "metadata": {
    "id": "LH5UtpOGoo9a"
   },
   "outputs": [],
   "source": [
    "df = df.drop('id', axis=1);"
   ]
  },
  {
   "cell_type": "code",
   "execution_count": 127,
   "metadata": {
    "colab": {
     "base_uri": "https://localhost:8080/",
     "height": 557
    },
    "id": "IIY-OV_PK71H",
    "outputId": "548bdcde-89dc-47ce-89c0-0d35f8c2497e"
   },
   "outputs": [
    {
     "data": {
      "text/html": [
       "<div>\n",
       "<style scoped>\n",
       "    .dataframe tbody tr th:only-of-type {\n",
       "        vertical-align: middle;\n",
       "    }\n",
       "\n",
       "    .dataframe tbody tr th {\n",
       "        vertical-align: top;\n",
       "    }\n",
       "\n",
       "    .dataframe thead th {\n",
       "        text-align: right;\n",
       "    }\n",
       "</style>\n",
       "<table border=\"1\" class=\"dataframe\">\n",
       "  <thead>\n",
       "    <tr style=\"text-align: right;\">\n",
       "      <th></th>\n",
       "      <th>gender</th>\n",
       "      <th>age</th>\n",
       "      <th>hypertension</th>\n",
       "      <th>heart_disease</th>\n",
       "      <th>ever_married</th>\n",
       "      <th>work_type</th>\n",
       "      <th>Residence_type</th>\n",
       "      <th>avg_glucose_level</th>\n",
       "      <th>bmi</th>\n",
       "      <th>smoking_status</th>\n",
       "      <th>stroke</th>\n",
       "    </tr>\n",
       "  </thead>\n",
       "  <tbody>\n",
       "    <tr>\n",
       "      <th>0</th>\n",
       "      <td>Male</td>\n",
       "      <td>67.0</td>\n",
       "      <td>0</td>\n",
       "      <td>1</td>\n",
       "      <td>Yes</td>\n",
       "      <td>Private</td>\n",
       "      <td>Urban</td>\n",
       "      <td>228.69</td>\n",
       "      <td>36.6</td>\n",
       "      <td>formerly smoked</td>\n",
       "      <td>1</td>\n",
       "    </tr>\n",
       "    <tr>\n",
       "      <th>2</th>\n",
       "      <td>Male</td>\n",
       "      <td>80.0</td>\n",
       "      <td>0</td>\n",
       "      <td>1</td>\n",
       "      <td>Yes</td>\n",
       "      <td>Private</td>\n",
       "      <td>Rural</td>\n",
       "      <td>105.92</td>\n",
       "      <td>32.5</td>\n",
       "      <td>never smoked</td>\n",
       "      <td>1</td>\n",
       "    </tr>\n",
       "    <tr>\n",
       "      <th>3</th>\n",
       "      <td>Female</td>\n",
       "      <td>49.0</td>\n",
       "      <td>0</td>\n",
       "      <td>0</td>\n",
       "      <td>Yes</td>\n",
       "      <td>Private</td>\n",
       "      <td>Urban</td>\n",
       "      <td>171.23</td>\n",
       "      <td>34.4</td>\n",
       "      <td>smokes</td>\n",
       "      <td>1</td>\n",
       "    </tr>\n",
       "    <tr>\n",
       "      <th>4</th>\n",
       "      <td>Female</td>\n",
       "      <td>79.0</td>\n",
       "      <td>1</td>\n",
       "      <td>0</td>\n",
       "      <td>Yes</td>\n",
       "      <td>Self-employed</td>\n",
       "      <td>Rural</td>\n",
       "      <td>174.12</td>\n",
       "      <td>24.0</td>\n",
       "      <td>never smoked</td>\n",
       "      <td>1</td>\n",
       "    </tr>\n",
       "    <tr>\n",
       "      <th>5</th>\n",
       "      <td>Male</td>\n",
       "      <td>81.0</td>\n",
       "      <td>0</td>\n",
       "      <td>0</td>\n",
       "      <td>Yes</td>\n",
       "      <td>Private</td>\n",
       "      <td>Urban</td>\n",
       "      <td>186.21</td>\n",
       "      <td>29.0</td>\n",
       "      <td>formerly smoked</td>\n",
       "      <td>1</td>\n",
       "    </tr>\n",
       "    <tr>\n",
       "      <th>...</th>\n",
       "      <td>...</td>\n",
       "      <td>...</td>\n",
       "      <td>...</td>\n",
       "      <td>...</td>\n",
       "      <td>...</td>\n",
       "      <td>...</td>\n",
       "      <td>...</td>\n",
       "      <td>...</td>\n",
       "      <td>...</td>\n",
       "      <td>...</td>\n",
       "      <td>...</td>\n",
       "    </tr>\n",
       "    <tr>\n",
       "      <th>5100</th>\n",
       "      <td>Male</td>\n",
       "      <td>82.0</td>\n",
       "      <td>1</td>\n",
       "      <td>0</td>\n",
       "      <td>Yes</td>\n",
       "      <td>Self-employed</td>\n",
       "      <td>Rural</td>\n",
       "      <td>71.97</td>\n",
       "      <td>28.3</td>\n",
       "      <td>never smoked</td>\n",
       "      <td>0</td>\n",
       "    </tr>\n",
       "    <tr>\n",
       "      <th>5102</th>\n",
       "      <td>Female</td>\n",
       "      <td>57.0</td>\n",
       "      <td>0</td>\n",
       "      <td>0</td>\n",
       "      <td>Yes</td>\n",
       "      <td>Private</td>\n",
       "      <td>Rural</td>\n",
       "      <td>77.93</td>\n",
       "      <td>21.7</td>\n",
       "      <td>never smoked</td>\n",
       "      <td>0</td>\n",
       "    </tr>\n",
       "    <tr>\n",
       "      <th>5106</th>\n",
       "      <td>Female</td>\n",
       "      <td>81.0</td>\n",
       "      <td>0</td>\n",
       "      <td>0</td>\n",
       "      <td>Yes</td>\n",
       "      <td>Self-employed</td>\n",
       "      <td>Urban</td>\n",
       "      <td>125.20</td>\n",
       "      <td>40.0</td>\n",
       "      <td>never smoked</td>\n",
       "      <td>0</td>\n",
       "    </tr>\n",
       "    <tr>\n",
       "      <th>5107</th>\n",
       "      <td>Female</td>\n",
       "      <td>35.0</td>\n",
       "      <td>0</td>\n",
       "      <td>0</td>\n",
       "      <td>Yes</td>\n",
       "      <td>Self-employed</td>\n",
       "      <td>Rural</td>\n",
       "      <td>82.99</td>\n",
       "      <td>30.6</td>\n",
       "      <td>never smoked</td>\n",
       "      <td>0</td>\n",
       "    </tr>\n",
       "    <tr>\n",
       "      <th>5108</th>\n",
       "      <td>Male</td>\n",
       "      <td>51.0</td>\n",
       "      <td>0</td>\n",
       "      <td>0</td>\n",
       "      <td>Yes</td>\n",
       "      <td>Private</td>\n",
       "      <td>Rural</td>\n",
       "      <td>166.29</td>\n",
       "      <td>25.6</td>\n",
       "      <td>formerly smoked</td>\n",
       "      <td>0</td>\n",
       "    </tr>\n",
       "  </tbody>\n",
       "</table>\n",
       "<p>3425 rows × 11 columns</p>\n",
       "</div>"
      ],
      "text/plain": [
       "      gender   age  hypertension  heart_disease ever_married      work_type  \\\n",
       "0       Male  67.0             0              1          Yes        Private   \n",
       "2       Male  80.0             0              1          Yes        Private   \n",
       "3     Female  49.0             0              0          Yes        Private   \n",
       "4     Female  79.0             1              0          Yes  Self-employed   \n",
       "5       Male  81.0             0              0          Yes        Private   \n",
       "...      ...   ...           ...            ...          ...            ...   \n",
       "5100    Male  82.0             1              0          Yes  Self-employed   \n",
       "5102  Female  57.0             0              0          Yes        Private   \n",
       "5106  Female  81.0             0              0          Yes  Self-employed   \n",
       "5107  Female  35.0             0              0          Yes  Self-employed   \n",
       "5108    Male  51.0             0              0          Yes        Private   \n",
       "\n",
       "     Residence_type  avg_glucose_level   bmi   smoking_status  stroke  \n",
       "0             Urban             228.69  36.6  formerly smoked       1  \n",
       "2             Rural             105.92  32.5     never smoked       1  \n",
       "3             Urban             171.23  34.4           smokes       1  \n",
       "4             Rural             174.12  24.0     never smoked       1  \n",
       "5             Urban             186.21  29.0  formerly smoked       1  \n",
       "...             ...                ...   ...              ...     ...  \n",
       "5100          Rural              71.97  28.3     never smoked       0  \n",
       "5102          Rural              77.93  21.7     never smoked       0  \n",
       "5106          Urban             125.20  40.0     never smoked       0  \n",
       "5107          Rural              82.99  30.6     never smoked       0  \n",
       "5108          Rural             166.29  25.6  formerly smoked       0  \n",
       "\n",
       "[3425 rows x 11 columns]"
      ]
     },
     "execution_count": 127,
     "metadata": {},
     "output_type": "execute_result"
    }
   ],
   "source": [
    "df"
   ]
  },
  {
   "cell_type": "markdown",
   "metadata": {},
   "source": [
    "The BMI column has a very wide range, so we decided to remove the outliers conserning it"
   ]
  },
  {
   "cell_type": "code",
   "execution_count": 128,
   "metadata": {
    "id": "T5xrU1rnKxu-"
   },
   "outputs": [],
   "source": [
    "# getting rid of the outliers of BMI\n",
    "\n",
    "# mean + 3 * std\n",
    "bmi_outlier_upper_boundary = df['bmi'].mean() + (3 * df['bmi'].std())\n",
    "df = df[df.bmi < bmi_outlier_upper_boundary]\n",
    "bmi_outlier_lower_boundary = df['bmi'].mean() - (3 * df['bmi'].std())\n",
    "df = df[df.bmi > bmi_outlier_lower_boundary]"
   ]
  },
  {
   "cell_type": "code",
   "execution_count": 129,
   "metadata": {
    "colab": {
     "base_uri": "https://localhost:8080/"
    },
    "id": "N1iaKqgeSrkQ",
    "outputId": "d8685419-1867-43a9-cbaf-7182ea443983"
   },
   "outputs": [
    {
     "name": "stdout",
     "output_type": "stream",
     "text": [
      "0    3202\n",
      "1     179\n",
      "Name: stroke, dtype: int64\n"
     ]
    }
   ],
   "source": [
    "print(df['stroke'].value_counts())"
   ]
  },
  {
   "cell_type": "markdown",
   "metadata": {},
   "source": [
    "As we can see the dataset is greatly unbalanced, so we are going to deal with it in a later section after EDA"
   ]
  },
  {
   "cell_type": "code",
   "execution_count": 130,
   "metadata": {
    "id": "c4zsVND6KfuR"
   },
   "outputs": [
    {
     "name": "stderr",
     "output_type": "stream",
     "text": [
      "C:\\Users\\hazem\\AppData\\Local\\Temp\\ipykernel_11912\\1516453895.py:5: UserWarning: Boolean Series key will be reindexed to match DataFrame index.\n",
      "  frequency1.append(df[df.age > 5][df.age <= 20][df.stroke == 1].value_counts().sum())\n",
      "C:\\Users\\hazem\\AppData\\Local\\Temp\\ipykernel_11912\\1516453895.py:6: UserWarning: Boolean Series key will be reindexed to match DataFrame index.\n",
      "  frequency2.append(df[df.age > 5][df.age <= 20][df.stroke == 0].value_counts().sum())\n",
      "C:\\Users\\hazem\\AppData\\Local\\Temp\\ipykernel_11912\\1516453895.py:11: UserWarning: Boolean Series key will be reindexed to match DataFrame index.\n",
      "  frequency1.append(df[df.age >= min][df.age <= max][df.stroke == 1].value_counts().sum())\n",
      "C:\\Users\\hazem\\AppData\\Local\\Temp\\ipykernel_11912\\1516453895.py:12: UserWarning: Boolean Series key will be reindexed to match DataFrame index.\n",
      "  frequency2.append(df[df.age >= min][df.age <= max][df.stroke == 0].value_counts().sum())\n",
      "C:\\Users\\hazem\\AppData\\Local\\Temp\\ipykernel_11912\\1516453895.py:11: UserWarning: Boolean Series key will be reindexed to match DataFrame index.\n",
      "  frequency1.append(df[df.age >= min][df.age <= max][df.stroke == 1].value_counts().sum())\n",
      "C:\\Users\\hazem\\AppData\\Local\\Temp\\ipykernel_11912\\1516453895.py:12: UserWarning: Boolean Series key will be reindexed to match DataFrame index.\n",
      "  frequency2.append(df[df.age >= min][df.age <= max][df.stroke == 0].value_counts().sum())\n",
      "C:\\Users\\hazem\\AppData\\Local\\Temp\\ipykernel_11912\\1516453895.py:11: UserWarning: Boolean Series key will be reindexed to match DataFrame index.\n",
      "  frequency1.append(df[df.age >= min][df.age <= max][df.stroke == 1].value_counts().sum())\n",
      "C:\\Users\\hazem\\AppData\\Local\\Temp\\ipykernel_11912\\1516453895.py:12: UserWarning: Boolean Series key will be reindexed to match DataFrame index.\n",
      "  frequency2.append(df[df.age >= min][df.age <= max][df.stroke == 0].value_counts().sum())\n",
      "C:\\Users\\hazem\\AppData\\Local\\Temp\\ipykernel_11912\\1516453895.py:16: UserWarning: Boolean Series key will be reindexed to match DataFrame index.\n",
      "  frequency1.append(df[df.age > 80][df.stroke == 1].value_counts().sum())\n",
      "C:\\Users\\hazem\\AppData\\Local\\Temp\\ipykernel_11912\\1516453895.py:17: UserWarning: Boolean Series key will be reindexed to match DataFrame index.\n",
      "  frequency2.append(df[df.age > 80][df.stroke == 0].value_counts().sum())\n"
     ]
    }
   ],
   "source": [
    "age_groups = ['5-20','21-40','41-60','61-80','80+']\n",
    "barWidth = 0.25\n",
    "frequency1 = []\n",
    "frequency2 = []\n",
    "frequency1.append(df[df.age > 5][df.age <= 20][df.stroke == 1].value_counts().sum())\n",
    "frequency2.append(df[df.age > 5][df.age <= 20][df.stroke == 0].value_counts().sum())\n",
    "\n",
    "min = 21\n",
    "max = 40\n",
    "while max <=80 :\n",
    "    frequency1.append(df[df.age >= min][df.age <= max][df.stroke == 1].value_counts().sum())\n",
    "    frequency2.append(df[df.age >= min][df.age <= max][df.stroke == 0].value_counts().sum())\n",
    "    min += 20\n",
    "    max += 20\n",
    " \n",
    "frequency1.append(df[df.age > 80][df.stroke == 1].value_counts().sum())\n",
    "frequency2.append(df[df.age > 80][df.stroke == 0].value_counts().sum())"
   ]
  },
  {
   "cell_type": "code",
   "execution_count": 131,
   "metadata": {
    "colab": {
     "base_uri": "https://localhost:8080/",
     "height": 287
    },
    "id": "7OORP6uUoLEP",
    "outputId": "0e5bd13e-f719-40e7-faa6-46b375d5d05c"
   },
   "outputs": [
    {
     "data": {
      "image/png": "[encoded data removed]",
      "text/plain": [
       "<Figure size 640x480 with 1 Axes>"
      ]
     },
     "metadata": {},
     "output_type": "display_data"
    }
   ],
   "source": [
    "def addlabels(x,y,va = 'bottom'):\n",
    "    for i in range(len(x)):\n",
    "        plt.text(i,y[i],y[i],va=va)\n",
    "\n",
    "br1 = np.arange(len(frequency1))\n",
    "br2 = [x + barWidth for x in br1]\n",
    "\n",
    "addlabels(br1,frequency1)\n",
    "addlabels(br2,frequency2)\n",
    "# Make the plot\n",
    "plt.bar(br1, frequency1, color = 'red', width = barWidth,\n",
    "        edgecolor ='grey', label ='stroke')\n",
    "plt.bar(br2, frequency2, color ='yellow', width = barWidth,\n",
    "        edgecolor ='grey', label ='no stroke')\n",
    "\n",
    "plt.xlabel('Age Groups', fontweight ='bold', fontsize = 15)\n",
    "plt.ylabel('frequency', fontweight ='bold', fontsize = 15)\n",
    "plt.xticks([r + barWidth for r in range(len(frequency1))],age_groups)\n",
    "\n",
    "plt.legend()\n",
    "plt.show()"
   ]
  },
  {
   "cell_type": "code",
   "execution_count": 132,
   "metadata": {
    "collapsed": true,
    "id": "gVKqZTWDqKVc"
   },
   "outputs": [
    {
     "name": "stderr",
     "output_type": "stream",
     "text": [
      "C:\\Users\\hazem\\AppData\\Local\\Temp\\ipykernel_11912\\1494237985.py:8: UserWarning: Boolean Series key will be reindexed to match DataFrame index.\n",
      "  frequency3.append(df[df.avg_glucose_level > min][df.avg_glucose_level <= max][df.stroke == 1].value_counts().sum())\n",
      "C:\\Users\\hazem\\AppData\\Local\\Temp\\ipykernel_11912\\1494237985.py:9: UserWarning: Boolean Series key will be reindexed to match DataFrame index.\n",
      "  frequency4.append(df[df.avg_glucose_level > min][df.avg_glucose_level <= max][df.stroke == 0].value_counts().sum())\n",
      "C:\\Users\\hazem\\AppData\\Local\\Temp\\ipykernel_11912\\1494237985.py:8: UserWarning: Boolean Series key will be reindexed to match DataFrame index.\n",
      "  frequency3.append(df[df.avg_glucose_level > min][df.avg_glucose_level <= max][df.stroke == 1].value_counts().sum())\n",
      "C:\\Users\\hazem\\AppData\\Local\\Temp\\ipykernel_11912\\1494237985.py:9: UserWarning: Boolean Series key will be reindexed to match DataFrame index.\n",
      "  frequency4.append(df[df.avg_glucose_level > min][df.avg_glucose_level <= max][df.stroke == 0].value_counts().sum())\n",
      "C:\\Users\\hazem\\AppData\\Local\\Temp\\ipykernel_11912\\1494237985.py:8: UserWarning: Boolean Series key will be reindexed to match DataFrame index.\n",
      "  frequency3.append(df[df.avg_glucose_level > min][df.avg_glucose_level <= max][df.stroke == 1].value_counts().sum())\n",
      "C:\\Users\\hazem\\AppData\\Local\\Temp\\ipykernel_11912\\1494237985.py:9: UserWarning: Boolean Series key will be reindexed to match DataFrame index.\n",
      "  frequency4.append(df[df.avg_glucose_level > min][df.avg_glucose_level <= max][df.stroke == 0].value_counts().sum())\n",
      "C:\\Users\\hazem\\AppData\\Local\\Temp\\ipykernel_11912\\1494237985.py:8: UserWarning: Boolean Series key will be reindexed to match DataFrame index.\n",
      "  frequency3.append(df[df.avg_glucose_level > min][df.avg_glucose_level <= max][df.stroke == 1].value_counts().sum())\n",
      "C:\\Users\\hazem\\AppData\\Local\\Temp\\ipykernel_11912\\1494237985.py:9: UserWarning: Boolean Series key will be reindexed to match DataFrame index.\n",
      "  frequency4.append(df[df.avg_glucose_level > min][df.avg_glucose_level <= max][df.stroke == 0].value_counts().sum())\n",
      "C:\\Users\\hazem\\AppData\\Local\\Temp\\ipykernel_11912\\1494237985.py:8: UserWarning: Boolean Series key will be reindexed to match DataFrame index.\n",
      "  frequency3.append(df[df.avg_glucose_level > min][df.avg_glucose_level <= max][df.stroke == 1].value_counts().sum())\n",
      "C:\\Users\\hazem\\AppData\\Local\\Temp\\ipykernel_11912\\1494237985.py:9: UserWarning: Boolean Series key will be reindexed to match DataFrame index.\n",
      "  frequency4.append(df[df.avg_glucose_level > min][df.avg_glucose_level <= max][df.stroke == 0].value_counts().sum())\n"
     ]
    }
   ],
   "source": [
    "glucose_levels = ['50-100','101-150','151-200','201-250','251+']\n",
    "\n",
    "frequency3 = []\n",
    "frequency4 = []\n",
    "min = 50\n",
    "max = 100\n",
    "while max <=300 :\n",
    "    frequency3.append(df[df.avg_glucose_level > min][df.avg_glucose_level <= max][df.stroke == 1].value_counts().sum())\n",
    "    frequency4.append(df[df.avg_glucose_level > min][df.avg_glucose_level <= max][df.stroke == 0].value_counts().sum())\n",
    "    min += 50\n",
    "    max += 50\n",
    "  "
   ]
  },
  {
   "cell_type": "code",
   "execution_count": 133,
   "metadata": {
    "colab": {
     "base_uri": "https://localhost:8080/",
     "height": 284
    },
    "id": "7E7kGLXfvmdE",
    "outputId": "6e354694-9589-43c4-e5ee-6d66ceddbece"
   },
   "outputs": [
    {
     "data": {
      "image/png": "[encoded data removed]",
      "text/plain": [
       "<Figure size 640x480 with 1 Axes>"
      ]
     },
     "metadata": {},
     "output_type": "display_data"
    }
   ],
   "source": [
    "br3 = np.arange(len(frequency3))\n",
    "br4 = [x + barWidth for x in br3]\n",
    "\n",
    "addlabels(br3,frequency3, 'center')\n",
    "addlabels(br4,frequency4)\n",
    "# Make the plot\n",
    "plt.bar(br3, frequency3, color = 'red', width = barWidth,\n",
    "        edgecolor ='grey', label ='stroke')\n",
    "plt.bar(br4, frequency4, color ='yellow', width = barWidth,\n",
    "        edgecolor ='grey', label ='no stroke')\n",
    "\n",
    "plt.xlabel('Avg Glucose Level', fontweight ='bold', fontsize = 15)\n",
    "plt.ylabel('frequency', fontweight ='bold', fontsize = 15)\n",
    "plt.xticks([r + barWidth for r in range(len(frequency3))],glucose_levels)\n",
    "\n",
    "plt.legend()\n",
    "plt.show()"
   ]
  },
  {
   "cell_type": "code",
   "execution_count": 134,
   "metadata": {
    "colab": {
     "base_uri": "https://localhost:8080/",
     "height": 1000
    },
    "id": "HU-5Fu3OdHlj",
    "outputId": "4233a679-54ce-4e59-a7b0-548a40e6ee24"
   },
   "outputs": [
    {
     "data": {
      "image/png": "[encoded data removed]",
      "text/plain": [
       "<Figure size 640x480 with 1 Axes>"
      ]
     },
     "metadata": {},
     "output_type": "display_data"
    },
    {
     "data": {
      "image/png": "[encoded data removed]",
      "text/plain": [
       "<Figure size 640x480 with 1 Axes>"
      ]
     },
     "metadata": {},
     "output_type": "display_data"
    },
    {
     "data": {
      "image/png": "[encoded data removed]",
      "text/plain": [
       "<Figure size 640x480 with 1 Axes>"
      ]
     },
     "metadata": {},
     "output_type": "display_data"
    },
    {
     "data": {
      "image/png": "[encoded data removed]",
      "text/plain": [
       "<Figure size 640x480 with 1 Axes>"
      ]
     },
     "metadata": {},
     "output_type": "display_data"
    },
    {
     "data": {
      "image/png": "[encoded data removed]",
      "text/plain": [
       "<Figure size 640x480 with 1 Axes>"
      ]
     },
     "metadata": {},
     "output_type": "display_data"
    },
    {
     "data": {
      "image/png": "[encoded data removed]",
      "text/plain": [
       "<Figure size 640x480 with 1 Axes>"
      ]
     },
     "metadata": {},
     "output_type": "display_data"
    },
    {
     "data": {
      "image/png": "[encoded data removed]",
      "text/plain": [
       "<Figure size 640x480 with 1 Axes>"
      ]
     },
     "metadata": {},
     "output_type": "display_data"
    }
   ],
   "source": [
    "for col in df.columns:\n",
    "    if col != \"stroke\" and col!= \"id\" and col != \"age\" and col != 'avg_glucose_level' and col != 'bmi':\n",
    "        df.groupby([col, \"stroke\"])[\"stroke\"].count().unstack().plot(kind=\"bar\",)"
   ]
  },
  {
   "cell_type": "markdown",
   "metadata": {
    "id": "AgaHN0xNhvfJ"
   },
   "source": [
    "## Machine learning"
   ]
  },
  {
   "cell_type": "markdown",
   "metadata": {
    "id": "WWVJaLpdEZAZ"
   },
   "source": [
    "We build models using four different methods. These are:\n",
    "- Random forest classifier\n",
    "- Logistic regression\n",
    "- K-Nearest Neighbours (KNN)\n",
    "- Artificial Neural Network (ANN)"
   ]
  },
  {
   "cell_type": "markdown",
   "metadata": {},
   "source": [
    "### Data Preproccessing"
   ]
  },
  {
   "cell_type": "markdown",
   "metadata": {
    "id": "IB9n3EPKEuA8"
   },
   "source": [
    "#### **One Hot Encoding**"
   ]
  },
  {
   "cell_type": "markdown",
   "metadata": {
    "id": "Qvc1HQiTFF_C"
   },
   "source": [
    "Before creating machine learning models, it is important to make sure that the dataset is suitable to be processed. One of the things to be look at is how to manage categorical data. In this dataset, there are:\n",
    "1. gender\n",
    "2. ever_marrried\n",
    "3. work_type\n",
    "4. Residence_type\n",
    "5. smoking_status\n",
    "\n",
    "We will apply one hot encoding to convert categorical value into binary value of 0 or 1. We will use pandas get_dummies function. After that we concantenate original dataframe with one hot encoding dataframe, we will drop the original categorical data columns.  "
   ]
  },
  {
   "cell_type": "code",
   "execution_count": 135,
   "metadata": {
    "id": "G2x3tkH7JyZN"
   },
   "outputs": [],
   "source": [
    "def onehot_encode(original_df, feature):\n",
    "    feature_encode = pd.get_dummies(original_df[[feature]])\n",
    "    new_df = pd.concat([original_df, feature_encode], axis=1)\n",
    "    new_df = new_df.drop([feature], axis=1)\n",
    "    return(new_df)"
   ]
  },
  {
   "cell_type": "code",
   "execution_count": 136,
   "metadata": {
    "colab": {
     "base_uri": "https://localhost:8080/"
    },
    "id": "OlaHDXhUKoLj",
    "outputId": "ef5ab001-aaac-443e-dfef-d9514904f21e"
   },
   "outputs": [
    {
     "name": "stdout",
     "output_type": "stream",
     "text": [
      "['gender', 'ever_married', 'work_type', 'Residence_type', 'smoking_status']\n"
     ]
    }
   ],
   "source": [
    "feature_to_encode = []\n",
    "for col in df.columns:\n",
    "  a = df[col].dtypes\n",
    "  if a == object:\n",
    "    feature_to_encode.append(col)\n",
    "\n",
    "print(feature_to_encode)"
   ]
  },
  {
   "cell_type": "code",
   "execution_count": 137,
   "metadata": {
    "id": "So44Z-Pa2XiC"
   },
   "outputs": [],
   "source": [
    "mod_df = df\n",
    "for feature in feature_to_encode:\n",
    "  mod_df = onehot_encode(mod_df, feature)"
   ]
  },
  {
   "cell_type": "code",
   "execution_count": 138,
   "metadata": {
    "colab": {
     "base_uri": "https://localhost:8080/",
     "height": 505
    },
    "id": "U7o6hJddPMUL",
    "outputId": "da2d6b96-abda-4f6a-ef3c-f407c5ba69b2"
   },
   "outputs": [
    {
     "data": {
      "text/html": [
       "<div>\n",
       "<style scoped>\n",
       "    .dataframe tbody tr th:only-of-type {\n",
       "        vertical-align: middle;\n",
       "    }\n",
       "\n",
       "    .dataframe tbody tr th {\n",
       "        vertical-align: top;\n",
       "    }\n",
       "\n",
       "    .dataframe thead th {\n",
       "        text-align: right;\n",
       "    }\n",
       "</style>\n",
       "<table border=\"1\" class=\"dataframe\">\n",
       "  <thead>\n",
       "    <tr style=\"text-align: right;\">\n",
       "      <th></th>\n",
       "      <th>age</th>\n",
       "      <th>hypertension</th>\n",
       "      <th>heart_disease</th>\n",
       "      <th>avg_glucose_level</th>\n",
       "      <th>bmi</th>\n",
       "      <th>stroke</th>\n",
       "      <th>gender_Female</th>\n",
       "      <th>gender_Male</th>\n",
       "      <th>ever_married_No</th>\n",
       "      <th>ever_married_Yes</th>\n",
       "      <th>work_type_Govt_job</th>\n",
       "      <th>work_type_Never_worked</th>\n",
       "      <th>work_type_Private</th>\n",
       "      <th>work_type_Self-employed</th>\n",
       "      <th>work_type_children</th>\n",
       "      <th>Residence_type_Rural</th>\n",
       "      <th>Residence_type_Urban</th>\n",
       "      <th>smoking_status_formerly smoked</th>\n",
       "      <th>smoking_status_never smoked</th>\n",
       "      <th>smoking_status_smokes</th>\n",
       "    </tr>\n",
       "  </thead>\n",
       "  <tbody>\n",
       "    <tr>\n",
       "      <th>0</th>\n",
       "      <td>67.0</td>\n",
       "      <td>0</td>\n",
       "      <td>1</td>\n",
       "      <td>228.69</td>\n",
       "      <td>36.6</td>\n",
       "      <td>1</td>\n",
       "      <td>0</td>\n",
       "      <td>1</td>\n",
       "      <td>0</td>\n",
       "      <td>1</td>\n",
       "      <td>0</td>\n",
       "      <td>0</td>\n",
       "      <td>1</td>\n",
       "      <td>0</td>\n",
       "      <td>0</td>\n",
       "      <td>0</td>\n",
       "      <td>1</td>\n",
       "      <td>1</td>\n",
       "      <td>0</td>\n",
       "      <td>0</td>\n",
       "    </tr>\n",
       "    <tr>\n",
       "      <th>2</th>\n",
       "      <td>80.0</td>\n",
       "      <td>0</td>\n",
       "      <td>1</td>\n",
       "      <td>105.92</td>\n",
       "      <td>32.5</td>\n",
       "      <td>1</td>\n",
       "      <td>0</td>\n",
       "      <td>1</td>\n",
       "      <td>0</td>\n",
       "      <td>1</td>\n",
       "      <td>0</td>\n",
       "      <td>0</td>\n",
       "      <td>1</td>\n",
       "      <td>0</td>\n",
       "      <td>0</td>\n",
       "      <td>1</td>\n",
       "      <td>0</td>\n",
       "      <td>0</td>\n",
       "      <td>1</td>\n",
       "      <td>0</td>\n",
       "    </tr>\n",
       "    <tr>\n",
       "      <th>3</th>\n",
       "      <td>49.0</td>\n",
       "      <td>0</td>\n",
       "      <td>0</td>\n",
       "      <td>171.23</td>\n",
       "      <td>34.4</td>\n",
       "      <td>1</td>\n",
       "      <td>1</td>\n",
       "      <td>0</td>\n",
       "      <td>0</td>\n",
       "      <td>1</td>\n",
       "      <td>0</td>\n",
       "      <td>0</td>\n",
       "      <td>1</td>\n",
       "      <td>0</td>\n",
       "      <td>0</td>\n",
       "      <td>0</td>\n",
       "      <td>1</td>\n",
       "      <td>0</td>\n",
       "      <td>0</td>\n",
       "      <td>1</td>\n",
       "    </tr>\n",
       "    <tr>\n",
       "      <th>4</th>\n",
       "      <td>79.0</td>\n",
       "      <td>1</td>\n",
       "      <td>0</td>\n",
       "      <td>174.12</td>\n",
       "      <td>24.0</td>\n",
       "      <td>1</td>\n",
       "      <td>1</td>\n",
       "      <td>0</td>\n",
       "      <td>0</td>\n",
       "      <td>1</td>\n",
       "      <td>0</td>\n",
       "      <td>0</td>\n",
       "      <td>0</td>\n",
       "      <td>1</td>\n",
       "      <td>0</td>\n",
       "      <td>1</td>\n",
       "      <td>0</td>\n",
       "      <td>0</td>\n",
       "      <td>1</td>\n",
       "      <td>0</td>\n",
       "    </tr>\n",
       "    <tr>\n",
       "      <th>5</th>\n",
       "      <td>81.0</td>\n",
       "      <td>0</td>\n",
       "      <td>0</td>\n",
       "      <td>186.21</td>\n",
       "      <td>29.0</td>\n",
       "      <td>1</td>\n",
       "      <td>0</td>\n",
       "      <td>1</td>\n",
       "      <td>0</td>\n",
       "      <td>1</td>\n",
       "      <td>0</td>\n",
       "      <td>0</td>\n",
       "      <td>1</td>\n",
       "      <td>0</td>\n",
       "      <td>0</td>\n",
       "      <td>0</td>\n",
       "      <td>1</td>\n",
       "      <td>1</td>\n",
       "      <td>0</td>\n",
       "      <td>0</td>\n",
       "    </tr>\n",
       "    <tr>\n",
       "      <th>...</th>\n",
       "      <td>...</td>\n",
       "      <td>...</td>\n",
       "      <td>...</td>\n",
       "      <td>...</td>\n",
       "      <td>...</td>\n",
       "      <td>...</td>\n",
       "      <td>...</td>\n",
       "      <td>...</td>\n",
       "      <td>...</td>\n",
       "      <td>...</td>\n",
       "      <td>...</td>\n",
       "      <td>...</td>\n",
       "      <td>...</td>\n",
       "      <td>...</td>\n",
       "      <td>...</td>\n",
       "      <td>...</td>\n",
       "      <td>...</td>\n",
       "      <td>...</td>\n",
       "      <td>...</td>\n",
       "      <td>...</td>\n",
       "    </tr>\n",
       "    <tr>\n",
       "      <th>5100</th>\n",
       "      <td>82.0</td>\n",
       "      <td>1</td>\n",
       "      <td>0</td>\n",
       "      <td>71.97</td>\n",
       "      <td>28.3</td>\n",
       "      <td>0</td>\n",
       "      <td>0</td>\n",
       "      <td>1</td>\n",
       "      <td>0</td>\n",
       "      <td>1</td>\n",
       "      <td>0</td>\n",
       "      <td>0</td>\n",
       "      <td>0</td>\n",
       "      <td>1</td>\n",
       "      <td>0</td>\n",
       "      <td>1</td>\n",
       "      <td>0</td>\n",
       "      <td>0</td>\n",
       "      <td>1</td>\n",
       "      <td>0</td>\n",
       "    </tr>\n",
       "    <tr>\n",
       "      <th>5102</th>\n",
       "      <td>57.0</td>\n",
       "      <td>0</td>\n",
       "      <td>0</td>\n",
       "      <td>77.93</td>\n",
       "      <td>21.7</td>\n",
       "      <td>0</td>\n",
       "      <td>1</td>\n",
       "      <td>0</td>\n",
       "      <td>0</td>\n",
       "      <td>1</td>\n",
       "      <td>0</td>\n",
       "      <td>0</td>\n",
       "      <td>1</td>\n",
       "      <td>0</td>\n",
       "      <td>0</td>\n",
       "      <td>1</td>\n",
       "      <td>0</td>\n",
       "      <td>0</td>\n",
       "      <td>1</td>\n",
       "      <td>0</td>\n",
       "    </tr>\n",
       "    <tr>\n",
       "      <th>5106</th>\n",
       "      <td>81.0</td>\n",
       "      <td>0</td>\n",
       "      <td>0</td>\n",
       "      <td>125.20</td>\n",
       "      <td>40.0</td>\n",
       "      <td>0</td>\n",
       "      <td>1</td>\n",
       "      <td>0</td>\n",
       "      <td>0</td>\n",
       "      <td>1</td>\n",
       "      <td>0</td>\n",
       "      <td>0</td>\n",
       "      <td>0</td>\n",
       "      <td>1</td>\n",
       "      <td>0</td>\n",
       "      <td>0</td>\n",
       "      <td>1</td>\n",
       "      <td>0</td>\n",
       "      <td>1</td>\n",
       "      <td>0</td>\n",
       "    </tr>\n",
       "    <tr>\n",
       "      <th>5107</th>\n",
       "      <td>35.0</td>\n",
       "      <td>0</td>\n",
       "      <td>0</td>\n",
       "      <td>82.99</td>\n",
       "      <td>30.6</td>\n",
       "      <td>0</td>\n",
       "      <td>1</td>\n",
       "      <td>0</td>\n",
       "      <td>0</td>\n",
       "      <td>1</td>\n",
       "      <td>0</td>\n",
       "      <td>0</td>\n",
       "      <td>0</td>\n",
       "      <td>1</td>\n",
       "      <td>0</td>\n",
       "      <td>1</td>\n",
       "      <td>0</td>\n",
       "      <td>0</td>\n",
       "      <td>1</td>\n",
       "      <td>0</td>\n",
       "    </tr>\n",
       "    <tr>\n",
       "      <th>5108</th>\n",
       "      <td>51.0</td>\n",
       "      <td>0</td>\n",
       "      <td>0</td>\n",
       "      <td>166.29</td>\n",
       "      <td>25.6</td>\n",
       "      <td>0</td>\n",
       "      <td>0</td>\n",
       "      <td>1</td>\n",
       "      <td>0</td>\n",
       "      <td>1</td>\n",
       "      <td>0</td>\n",
       "      <td>0</td>\n",
       "      <td>1</td>\n",
       "      <td>0</td>\n",
       "      <td>0</td>\n",
       "      <td>1</td>\n",
       "      <td>0</td>\n",
       "      <td>1</td>\n",
       "      <td>0</td>\n",
       "      <td>0</td>\n",
       "    </tr>\n",
       "  </tbody>\n",
       "</table>\n",
       "<p>3381 rows × 20 columns</p>\n",
       "</div>"
      ],
      "text/plain": [
       "       age  hypertension  heart_disease  avg_glucose_level   bmi  stroke  \\\n",
       "0     67.0             0              1             228.69  36.6       1   \n",
       "2     80.0             0              1             105.92  32.5       1   \n",
       "3     49.0             0              0             171.23  34.4       1   \n",
       "4     79.0             1              0             174.12  24.0       1   \n",
       "5     81.0             0              0             186.21  29.0       1   \n",
       "...    ...           ...            ...                ...   ...     ...   \n",
       "5100  82.0             1              0              71.97  28.3       0   \n",
       "5102  57.0             0              0              77.93  21.7       0   \n",
       "5106  81.0             0              0             125.20  40.0       0   \n",
       "5107  35.0             0              0              82.99  30.6       0   \n",
       "5108  51.0             0              0             166.29  25.6       0   \n",
       "\n",
       "      gender_Female  gender_Male  ever_married_No  ever_married_Yes  \\\n",
       "0                 0            1                0                 1   \n",
       "2                 0            1                0                 1   \n",
       "3                 1            0                0                 1   \n",
       "4                 1            0                0                 1   \n",
       "5                 0            1                0                 1   \n",
       "...             ...          ...              ...               ...   \n",
       "5100              0            1                0                 1   \n",
       "5102              1            0                0                 1   \n",
       "5106              1            0                0                 1   \n",
       "5107              1            0                0                 1   \n",
       "5108              0            1                0                 1   \n",
       "\n",
       "      work_type_Govt_job  work_type_Never_worked  work_type_Private  \\\n",
       "0                      0                       0                  1   \n",
       "2                      0                       0                  1   \n",
       "3                      0                       0                  1   \n",
       "4                      0                       0                  0   \n",
       "5                      0                       0                  1   \n",
       "...                  ...                     ...                ...   \n",
       "5100                   0                       0                  0   \n",
       "5102                   0                       0                  1   \n",
       "5106                   0                       0                  0   \n",
       "5107                   0                       0                  0   \n",
       "5108                   0                       0                  1   \n",
       "\n",
       "      work_type_Self-employed  work_type_children  Residence_type_Rural  \\\n",
       "0                           0                   0                     0   \n",
       "2                           0                   0                     1   \n",
       "3                           0                   0                     0   \n",
       "4                           1                   0                     1   \n",
       "5                           0                   0                     0   \n",
       "...                       ...                 ...                   ...   \n",
       "5100                        1                   0                     1   \n",
       "5102                        0                   0                     1   \n",
       "5106                        1                   0                     0   \n",
       "5107                        1                   0                     1   \n",
       "5108                        0                   0                     1   \n",
       "\n",
       "      Residence_type_Urban  smoking_status_formerly smoked  \\\n",
       "0                        1                               1   \n",
       "2                        0                               0   \n",
       "3                        1                               0   \n",
       "4                        0                               0   \n",
       "5                        1                               1   \n",
       "...                    ...                             ...   \n",
       "5100                     0                               0   \n",
       "5102                     0                               0   \n",
       "5106                     1                               0   \n",
       "5107                     0                               0   \n",
       "5108                     0                               1   \n",
       "\n",
       "      smoking_status_never smoked  smoking_status_smokes  \n",
       "0                               0                      0  \n",
       "2                               1                      0  \n",
       "3                               0                      1  \n",
       "4                               1                      0  \n",
       "5                               0                      0  \n",
       "...                           ...                    ...  \n",
       "5100                            1                      0  \n",
       "5102                            1                      0  \n",
       "5106                            1                      0  \n",
       "5107                            1                      0  \n",
       "5108                            0                      0  \n",
       "\n",
       "[3381 rows x 20 columns]"
      ]
     },
     "execution_count": 138,
     "metadata": {},
     "output_type": "execute_result"
    }
   ],
   "source": [
    "mod_df"
   ]
  },
  {
   "cell_type": "code",
   "execution_count": 139,
   "metadata": {
    "id": "OY5HZkxtt5jI"
   },
   "outputs": [],
   "source": [
    "# splitting the dataset \n",
    "X = mod_df.drop('stroke', axis=1)\n",
    "y = mod_df['stroke']\n",
    "X_train, X_test, y_train, y_test = train_test_split(X, y, train_size=0.8, stratify = y, random_state=101)"
   ]
  },
  {
   "cell_type": "code",
   "execution_count": 140,
   "metadata": {
    "colab": {
     "base_uri": "https://localhost:8080/"
    },
    "id": "3QAfHKRqm9zb",
    "outputId": "2f6ea180-94c8-4030-9130-81ce72e176a5"
   },
   "outputs": [
    {
     "data": {
      "text/plain": [
       "0    2561\n",
       "1     143\n",
       "Name: stroke, dtype: int64"
      ]
     },
     "execution_count": 140,
     "metadata": {},
     "output_type": "execute_result"
    }
   ],
   "source": [
    "y_train.value_counts()"
   ]
  },
  {
   "cell_type": "markdown",
   "metadata": {
    "id": "ImxbBu4AWgIL"
   },
   "source": [
    "The dataset that we are using contains unbalanced data. To avoid bias in our models, we will apply oversampling using the SMOTE class."
   ]
  },
  {
   "cell_type": "code",
   "execution_count": 141,
   "metadata": {},
   "outputs": [],
   "source": [
    "X_smote_big, y_smote_big = SMOTE().fit_resample(X_train, y_train)"
   ]
  },
  {
   "cell_type": "code",
   "execution_count": 142,
   "metadata": {},
   "outputs": [
    {
     "name": "stdout",
     "output_type": "stream",
     "text": [
      "(5122, 19)\n",
      "0    2561\n",
      "1    2561\n",
      "Name: stroke, dtype: int64\n"
     ]
    }
   ],
   "source": [
    "print(X_smote_big.shape)\n",
    "print(y_smote_big.value_counts())"
   ]
  },
  {
   "cell_type": "markdown",
   "metadata": {
    "id": "i40rnwTVWKba"
   },
   "source": [
    "### **Random Forest Classifier**"
   ]
  },
  {
   "cell_type": "markdown",
   "metadata": {
    "id": "Lz6bkhIfQQpa"
   },
   "source": [
    "One of the machine learning algorithm that will be used is **Random Forest Classifier**. Random forest is a supervised learning algorithm. Which mean that we used labelled dataset for training the model. Random forest works by creating multiple decision trees on randomly selected data samples, gets predictions from each tree and finally selects the best solution by means of voting.\n",
    "\n",
    "Random forest has a few advantages against other algorithms which are:\n",
    "* It is considered as a highly accurate and robust method\n",
    "* Does not suffer from the overfitting problem. \n",
    "* Random forest can handle missing values.\n",
    "\n"
   ]
  },
  {
   "cell_type": "code",
   "execution_count": 143,
   "metadata": {
    "colab": {
     "base_uri": "https://localhost:8080/"
    },
    "id": "n2n2qxURvj8V",
    "outputId": "c945da52-98a7-42fd-a461-ca112ce1dd6c"
   },
   "outputs": [
    {
     "data": {
      "text/html": [
       "<style>#sk-container-id-7 {color: black;background-color: white;}#sk-container-id-7 pre{padding: 0;}#sk-container-id-7 div.sk-toggleable {background-color: white;}#sk-container-id-7 label.sk-toggleable__label {cursor: pointer;display: block;width: 100%;margin-bottom: 0;padding: 0.3em;box-sizing: border-box;text-align: center;}#sk-container-id-7 label.sk-toggleable__label-arrow:before {content: \"▸\";float: left;margin-right: 0.25em;color: #696969;}#sk-container-id-7 label.sk-toggleable__label-arrow:hover:before {color: black;}#sk-container-id-7 div.sk-estimator:hover label.sk-toggleable__label-arrow:before {color: black;}#sk-container-id-7 div.sk-toggleable__content {max-height: 0;max-width: 0;overflow: hidden;text-align: left;background-color: #f0f8ff;}#sk-container-id-7 div.sk-toggleable__content pre {margin: 0.2em;color: black;border-radius: 0.25em;background-color: #f0f8ff;}#sk-container-id-7 input.sk-toggleable__control:checked~div.sk-toggleable__content {max-height: 200px;max-width: 100%;overflow: auto;}#sk-container-id-7 input.sk-toggleable__control:checked~label.sk-toggleable__label-arrow:before {content: \"▾\";}#sk-container-id-7 div.sk-estimator input.sk-toggleable__control:checked~label.sk-toggleable__label {background-color: #d4ebff;}#sk-container-id-7 div.sk-label input.sk-toggleable__control:checked~label.sk-toggleable__label {background-color: #d4ebff;}#sk-container-id-7 input.sk-hidden--visually {border: 0;clip: rect(1px 1px 1px 1px);clip: rect(1px, 1px, 1px, 1px);height: 1px;margin: -1px;overflow: hidden;padding: 0;position: absolute;width: 1px;}#sk-container-id-7 div.sk-estimator {font-family: monospace;background-color: #f0f8ff;border: 1px dotted black;border-radius: 0.25em;box-sizing: border-box;margin-bottom: 0.5em;}#sk-container-id-7 div.sk-estimator:hover {background-color: #d4ebff;}#sk-container-id-7 div.sk-parallel-item::after {content: \"\";width: 100%;border-bottom: 1px solid gray;flex-grow: 1;}#sk-container-id-7 div.sk-label:hover label.sk-toggleable__label {background-color: #d4ebff;}#sk-container-id-7 div.sk-serial::before {content: \"\";position: absolute;border-left: 1px solid gray;box-sizing: border-box;top: 0;bottom: 0;left: 50%;z-index: 0;}#sk-container-id-7 div.sk-serial {display: flex;flex-direction: column;align-items: center;background-color: white;padding-right: 0.2em;padding-left: 0.2em;position: relative;}#sk-container-id-7 div.sk-item {position: relative;z-index: 1;}#sk-container-id-7 div.sk-parallel {display: flex;align-items: stretch;justify-content: center;background-color: white;position: relative;}#sk-container-id-7 div.sk-item::before, #sk-container-id-7 div.sk-parallel-item::before {content: \"\";position: absolute;border-left: 1px solid gray;box-sizing: border-box;top: 0;bottom: 0;left: 50%;z-index: -1;}#sk-container-id-7 div.sk-parallel-item {display: flex;flex-direction: column;z-index: 1;position: relative;background-color: white;}#sk-container-id-7 div.sk-parallel-item:first-child::after {align-self: flex-end;width: 50%;}#sk-container-id-7 div.sk-parallel-item:last-child::after {align-self: flex-start;width: 50%;}#sk-container-id-7 div.sk-parallel-item:only-child::after {width: 0;}#sk-container-id-7 div.sk-dashed-wrapped {border: 1px dashed gray;margin: 0 0.4em 0.5em 0.4em;box-sizing: border-box;padding-bottom: 0.4em;background-color: white;}#sk-container-id-7 div.sk-label label {font-family: monospace;font-weight: bold;display: inline-block;line-height: 1.2em;}#sk-container-id-7 div.sk-label-container {text-align: center;}#sk-container-id-7 div.sk-container {/* jupyter's `normalize.less` sets `[hidden] { display: none; }` but bootstrap.min.css set `[hidden] { display: none !important; }` so we also need the `!important` here to be able to override the default hidden behavior on the sphinx rendered scikit-learn.org. See: https://github.com/scikit-learn/scikit-learn/issues/21755 */display: inline-block !important;position: relative;}#sk-container-id-7 div.sk-text-repr-fallback {display: none;}</style><div id=\"sk-container-id-7\" class=\"sk-top-container\"><div class=\"sk-text-repr-fallback\"><pre>RandomForestClassifier()</pre><b>In a Jupyter environment, please rerun this cell to show the HTML representation or trust the notebook. <br />On GitHub, the HTML representation is unable to render, please try loading this page with nbviewer.org.</b></div><div class=\"sk-container\" hidden><div class=\"sk-item\"><div class=\"sk-estimator sk-toggleable\"><input class=\"sk-toggleable__control sk-hidden--visually\" id=\"sk-estimator-id-7\" type=\"checkbox\" checked><label for=\"sk-estimator-id-7\" class=\"sk-toggleable__label sk-toggleable__label-arrow\">RandomForestClassifier</label><div class=\"sk-toggleable__content\"><pre>RandomForestClassifier()</pre></div></div></div></div></div>"
      ],
      "text/plain": [
       "RandomForestClassifier()"
      ]
     },
     "execution_count": 143,
     "metadata": {},
     "output_type": "execute_result"
    }
   ],
   "source": [
    "rfc = RandomForestClassifier(n_estimators=100)\n",
    "rfc.fit(X_smote_big, y_smote_big)"
   ]
  },
  {
   "cell_type": "code",
   "execution_count": 144,
   "metadata": {
    "id": "EjBJk4nyvj-y"
   },
   "outputs": [],
   "source": [
    "y_pred_rfc = rfc.predict(X_test)"
   ]
  },
  {
   "cell_type": "code",
   "execution_count": 145,
   "metadata": {
    "colab": {
     "base_uri": "https://localhost:8080/"
    },
    "id": "S6MtrjEYvkCc",
    "outputId": "babec1f0-651c-4a7c-9171-8c66a1d315de"
   },
   "outputs": [
    {
     "name": "stdout",
     "output_type": "stream",
     "text": [
      "Accuracy: 0.9335302806499262\n"
     ]
    }
   ],
   "source": [
    "print(\"Accuracy:\",accuracy_score(y_test, y_pred_rfc))"
   ]
  },
  {
   "cell_type": "code",
   "execution_count": 146,
   "metadata": {
    "colab": {
     "base_uri": "https://localhost:8080/"
    },
    "id": "UW0fm9_cvkH2",
    "outputId": "9a31bab7-8521-42fd-fa64-065f355d4c16"
   },
   "outputs": [],
   "source": [
    "cm = confusion_matrix(y_test, y_pred_rfc)"
   ]
  },
  {
   "cell_type": "code",
   "execution_count": 147,
   "metadata": {
    "colab": {
     "base_uri": "https://localhost:8080/",
     "height": 295
    },
    "id": "9LIgzh2PqaTv",
    "outputId": "4684595a-c9e6-4480-a6c6-6641b00e885a"
   },
   "outputs": [
    {
     "data": {
      "image/png": "[encoded data removed]",
      "text/plain": [
       "<Figure size 640x480 with 2 Axes>"
      ]
     },
     "metadata": {},
     "output_type": "display_data"
    }
   ],
   "source": [
    "ax= plt.subplot()\n",
    "sns.heatmap(cm, annot=True, fmt='g', ax=ax);  #annot=True to annotate cells, ftm='g' to disable scientific notation\n",
    "\n",
    "# labels, title and ticks\n",
    "ax.set_xlabel('Predicted labels');ax.set_ylabel('Actual labels'); \n",
    "ax.set_title('Confusion Matrix'); \n",
    "ax.xaxis.set_ticklabels(['Healthy', 'Stroke']); ax.yaxis.set_ticklabels(['Healthy', 'Stroke']);"
   ]
  },
  {
   "cell_type": "code",
   "execution_count": 148,
   "metadata": {
    "colab": {
     "base_uri": "https://localhost:8080/"
    },
    "id": "eLkEnSPJT9lT",
    "outputId": "9108bba2-9b47-4d21-b63a-fcae47a1adb6"
   },
   "outputs": [
    {
     "name": "stdout",
     "output_type": "stream",
     "text": [
      "              precision    recall  f1-score   support\n",
      "\n",
      "           0       0.95      0.99      0.97       641\n",
      "           1       0.00      0.00      0.00        36\n",
      "\n",
      "    accuracy                           0.93       677\n",
      "   macro avg       0.47      0.49      0.48       677\n",
      "weighted avg       0.90      0.93      0.91       677\n",
      "\n"
     ]
    }
   ],
   "source": [
    "print(classification_report(y_test, y_pred_rfc))"
   ]
  },
  {
   "cell_type": "markdown",
   "metadata": {
    "id": "AEj5Rt-CzqZu"
   },
   "source": [
    "### **Logistic Regression**"
   ]
  },
  {
   "cell_type": "markdown",
   "metadata": {
    "id": "ZZ25vKaNJavU"
   },
   "source": [
    "Logistic regression is an algorithm used for binary dependent variables. In our case it is suitable to be used as the dependent variable 'stroke'. For this model, ideally the independent variables should be independent or close to independent and large sample sizes should be available.\n",
    "\n",
    "Ref: https://towardsdatascience.com/building-a-logistic-regression-in-python-step-by-step-becd4d56c9c8\n"
   ]
  },
  {
   "cell_type": "code",
   "execution_count": 149,
   "metadata": {
    "colab": {
     "base_uri": "https://localhost:8080/"
    },
    "id": "DTcUXq8MqGeh",
    "outputId": "5b7e95d8-7057-4747-e29e-5c75ce3b7960"
   },
   "outputs": [
    {
     "name": "stdout",
     "output_type": "stream",
     "text": [
      "Accuracy = 0.9379615952732644\n"
     ]
    }
   ],
   "source": [
    "clf = LogisticRegression(random_state=0, max_iter=1000)\n",
    "clf.fit(X_smote_big, y_smote_big)\n",
    "y_pred_lr = clf.predict(X_test)\n",
    "\n",
    "score_logi_reg = clf.score(X_test, y_test)\n",
    "\n",
    "cm = confusion_matrix(y_test, y_pred_lr)\n",
    "\n",
    "print(\"Accuracy =\",score_logi_reg)"
   ]
  },
  {
   "cell_type": "code",
   "execution_count": 150,
   "metadata": {
    "colab": {
     "base_uri": "https://localhost:8080/",
     "height": 295
    },
    "id": "HsgKUOLyt1P-",
    "outputId": "568421ed-e459-4e34-e843-5e878aa747a0"
   },
   "outputs": [
    {
     "data": {
      "image/png": "[encoded data removed]",
      "text/plain": [
       "<Figure size 640x480 with 2 Axes>"
      ]
     },
     "metadata": {},
     "output_type": "display_data"
    }
   ],
   "source": [
    "ax= plt.subplot()\n",
    "sns.heatmap(cm, annot=True, fmt='g', ax=ax)\n",
    "\n",
    "# labels, title and ticks\n",
    "ax.set_xlabel('Predicted labels');ax.set_ylabel('Actual labels'); \n",
    "ax.set_title('Accuracy = '+str(score_logi_reg)); \n",
    "ax.xaxis.set_ticklabels(['Healthy', 'Stroke']); ax.yaxis.set_ticklabels(['Healthy', 'Stroke']);"
   ]
  },
  {
   "cell_type": "code",
   "execution_count": 151,
   "metadata": {
    "colab": {
     "base_uri": "https://localhost:8080/"
    },
    "id": "z29QN-RP0bPn",
    "outputId": "ae6e1f06-fcf1-4fe5-d7ec-d40d7bbc4338"
   },
   "outputs": [
    {
     "name": "stdout",
     "output_type": "stream",
     "text": [
      "              precision    recall  f1-score   support\n",
      "\n",
      "           0       0.95      0.99      0.97       641\n",
      "           1       0.12      0.03      0.05        36\n",
      "\n",
      "    accuracy                           0.94       677\n",
      "   macro avg       0.54      0.51      0.51       677\n",
      "weighted avg       0.90      0.94      0.92       677\n",
      "\n"
     ]
    }
   ],
   "source": [
    "print(classification_report(y_test, y_pred_lr))"
   ]
  },
  {
   "cell_type": "markdown",
   "metadata": {
    "id": "GI6QXkInMhig"
   },
   "source": [
    "### **K-Nearest Neighbors**"
   ]
  },
  {
   "cell_type": "markdown",
   "metadata": {
    "id": "iNVyWauSjGEf"
   },
   "source": [
    "A statistical, non-parametric algorithm that is used in classification. It is supervised machine learning algorithm that can be used in classification and regression, but in our case study here we are using it in classification only. \n",
    "The KNN algorithm assumes that similar things exist in close proximity. In other words, similar things are near to each other.\n",
    "\n",
    "**Advantages of using KNN:**\n",
    "\n",
    "1. The algorithm is simple and easy to implement.\n",
    "2. There’s no need tune several parameters, or make additional assumptions.\n",
    "3. The algorithm is versatile. It can be used for classification and  regression\n",
    "\n",
    "**Disdvantages:**\n",
    "\n",
    "1. The algorithm gets significantly slower as the number of examples and/or independent variables increase.\n",
    "\n",
    "Ref:\n",
    "* https://towardsdatascience.com/machine-learning-basics-with-the-k-nearest-neighbors-algorithm-6a6e71d01761\n",
    "* https://en.wikipedia.org/wiki/K-nearest_neighbors_algorithm"
   ]
  },
  {
   "cell_type": "code",
   "execution_count": 152,
   "metadata": {},
   "outputs": [],
   "source": [
    "# further split the data to validate\n",
    "X_train_knn, X_val_knn, y_train_knn, y_val_knn = train_test_split(X_smote_big, y_smote_big, train_size = 0.75)"
   ]
  },
  {
   "cell_type": "code",
   "execution_count": 153,
   "metadata": {},
   "outputs": [
    {
     "data": {
      "text/plain": [
       "((3841, 19), (1281, 19), (3841,), (1281,))"
      ]
     },
     "execution_count": 153,
     "metadata": {},
     "output_type": "execute_result"
    }
   ],
   "source": [
    "X_train_knn.shape, X_val_knn.shape, y_train_knn.shape, y_val_knn.shape"
   ]
  },
  {
   "cell_type": "code",
   "execution_count": 154,
   "metadata": {},
   "outputs": [],
   "source": [
    "# getting the best k neighbor number\n",
    "\n",
    "best_score = 0\n",
    "best_k = 0\n",
    "scores = []\n",
    "for k in range(1, 10):\n",
    "    knn = KNeighborsClassifier(n_neighbors = k)\n",
    "    knn.fit(X_train_knn, y_train_knn)\n",
    "    cur_score = knn.score(X_val_knn, y_val_knn)\n",
    "    scores.append(cur_score)\n",
    "    if cur_score > best_score:\n",
    "        best_score = cur_score\n",
    "        best_k = k\n",
    "        \n"
   ]
  },
  {
   "cell_type": "code",
   "execution_count": 155,
   "metadata": {},
   "outputs": [
    {
     "data": {
      "image/png": "[encoded data removed]",
      "text/plain": [
       "<Figure size 640x480 with 1 Axes>"
      ]
     },
     "metadata": {},
     "output_type": "display_data"
    }
   ],
   "source": [
    "plt.plot(list(range(1,10)),scores)\n",
    "plt.xlabel('Number of neighbors')\n",
    "plt.ylabel('Score')\n",
    "plt.show()"
   ]
  },
  {
   "cell_type": "code",
   "execution_count": 156,
   "metadata": {
    "id": "0_AKPhGpO8DI"
   },
   "outputs": [
    {
     "name": "stdout",
     "output_type": "stream",
     "text": [
      "Best k is 2\n"
     ]
    }
   ],
   "source": [
    "print(f'Best k is {best_k}')\n",
    "knn = KNeighborsClassifier(n_neighbors = best_k) "
   ]
  },
  {
   "cell_type": "code",
   "execution_count": 157,
   "metadata": {
    "colab": {
     "base_uri": "https://localhost:8080/"
    },
    "id": "yENQdl3_PJO2",
    "outputId": "5cca3095-1089-484b-f50a-e4c5477f8410"
   },
   "outputs": [
    {
     "data": {
      "text/html": [
       "<style>#sk-container-id-8 {color: black;background-color: white;}#sk-container-id-8 pre{padding: 0;}#sk-container-id-8 div.sk-toggleable {background-color: white;}#sk-container-id-8 label.sk-toggleable__label {cursor: pointer;display: block;width: 100%;margin-bottom: 0;padding: 0.3em;box-sizing: border-box;text-align: center;}#sk-container-id-8 label.sk-toggleable__label-arrow:before {content: \"▸\";float: left;margin-right: 0.25em;color: #696969;}#sk-container-id-8 label.sk-toggleable__label-arrow:hover:before {color: black;}#sk-container-id-8 div.sk-estimator:hover label.sk-toggleable__label-arrow:before {color: black;}#sk-container-id-8 div.sk-toggleable__content {max-height: 0;max-width: 0;overflow: hidden;text-align: left;background-color: #f0f8ff;}#sk-container-id-8 div.sk-toggleable__content pre {margin: 0.2em;color: black;border-radius: 0.25em;background-color: #f0f8ff;}#sk-container-id-8 input.sk-toggleable__control:checked~div.sk-toggleable__content {max-height: 200px;max-width: 100%;overflow: auto;}#sk-container-id-8 input.sk-toggleable__control:checked~label.sk-toggleable__label-arrow:before {content: \"▾\";}#sk-container-id-8 div.sk-estimator input.sk-toggleable__control:checked~label.sk-toggleable__label {background-color: #d4ebff;}#sk-container-id-8 div.sk-label input.sk-toggleable__control:checked~label.sk-toggleable__label {background-color: #d4ebff;}#sk-container-id-8 input.sk-hidden--visually {border: 0;clip: rect(1px 1px 1px 1px);clip: rect(1px, 1px, 1px, 1px);height: 1px;margin: -1px;overflow: hidden;padding: 0;position: absolute;width: 1px;}#sk-container-id-8 div.sk-estimator {font-family: monospace;background-color: #f0f8ff;border: 1px dotted black;border-radius: 0.25em;box-sizing: border-box;margin-bottom: 0.5em;}#sk-container-id-8 div.sk-estimator:hover {background-color: #d4ebff;}#sk-container-id-8 div.sk-parallel-item::after {content: \"\";width: 100%;border-bottom: 1px solid gray;flex-grow: 1;}#sk-container-id-8 div.sk-label:hover label.sk-toggleable__label {background-color: #d4ebff;}#sk-container-id-8 div.sk-serial::before {content: \"\";position: absolute;border-left: 1px solid gray;box-sizing: border-box;top: 0;bottom: 0;left: 50%;z-index: 0;}#sk-container-id-8 div.sk-serial {display: flex;flex-direction: column;align-items: center;background-color: white;padding-right: 0.2em;padding-left: 0.2em;position: relative;}#sk-container-id-8 div.sk-item {position: relative;z-index: 1;}#sk-container-id-8 div.sk-parallel {display: flex;align-items: stretch;justify-content: center;background-color: white;position: relative;}#sk-container-id-8 div.sk-item::before, #sk-container-id-8 div.sk-parallel-item::before {content: \"\";position: absolute;border-left: 1px solid gray;box-sizing: border-box;top: 0;bottom: 0;left: 50%;z-index: -1;}#sk-container-id-8 div.sk-parallel-item {display: flex;flex-direction: column;z-index: 1;position: relative;background-color: white;}#sk-container-id-8 div.sk-parallel-item:first-child::after {align-self: flex-end;width: 50%;}#sk-container-id-8 div.sk-parallel-item:last-child::after {align-self: flex-start;width: 50%;}#sk-container-id-8 div.sk-parallel-item:only-child::after {width: 0;}#sk-container-id-8 div.sk-dashed-wrapped {border: 1px dashed gray;margin: 0 0.4em 0.5em 0.4em;box-sizing: border-box;padding-bottom: 0.4em;background-color: white;}#sk-container-id-8 div.sk-label label {font-family: monospace;font-weight: bold;display: inline-block;line-height: 1.2em;}#sk-container-id-8 div.sk-label-container {text-align: center;}#sk-container-id-8 div.sk-container {/* jupyter's `normalize.less` sets `[hidden] { display: none; }` but bootstrap.min.css set `[hidden] { display: none !important; }` so we also need the `!important` here to be able to override the default hidden behavior on the sphinx rendered scikit-learn.org. See: https://github.com/scikit-learn/scikit-learn/issues/21755 */display: inline-block !important;position: relative;}#sk-container-id-8 div.sk-text-repr-fallback {display: none;}</style><div id=\"sk-container-id-8\" class=\"sk-top-container\"><div class=\"sk-text-repr-fallback\"><pre>KNeighborsClassifier(n_neighbors=2)</pre><b>In a Jupyter environment, please rerun this cell to show the HTML representation or trust the notebook. <br />On GitHub, the HTML representation is unable to render, please try loading this page with nbviewer.org.</b></div><div class=\"sk-container\" hidden><div class=\"sk-item\"><div class=\"sk-estimator sk-toggleable\"><input class=\"sk-toggleable__control sk-hidden--visually\" id=\"sk-estimator-id-8\" type=\"checkbox\" checked><label for=\"sk-estimator-id-8\" class=\"sk-toggleable__label sk-toggleable__label-arrow\">KNeighborsClassifier</label><div class=\"sk-toggleable__content\"><pre>KNeighborsClassifier(n_neighbors=2)</pre></div></div></div></div></div>"
      ],
      "text/plain": [
       "KNeighborsClassifier(n_neighbors=2)"
      ]
     },
     "execution_count": 157,
     "metadata": {},
     "output_type": "execute_result"
    }
   ],
   "source": [
    "knn.fit(X_smote_big,y_smote_big)"
   ]
  },
  {
   "cell_type": "code",
   "execution_count": 158,
   "metadata": {
    "id": "NljWXZNsPTrl"
   },
   "outputs": [],
   "source": [
    "knn_predictions = knn.predict(X_test)"
   ]
  },
  {
   "cell_type": "code",
   "execution_count": 159,
   "metadata": {
    "colab": {
     "base_uri": "https://localhost:8080/"
    },
    "id": "BDxrxkj2PtBb",
    "outputId": "b1ce84df-1d80-4afc-fe84-e6eb47c193cc"
   },
   "outputs": [
    {
     "data": {
      "text/plain": [
       "0.8641063515509602"
      ]
     },
     "execution_count": 159,
     "metadata": {},
     "output_type": "execute_result"
    }
   ],
   "source": [
    "accuracy_score(y_test,knn_predictions)"
   ]
  },
  {
   "cell_type": "code",
   "execution_count": 160,
   "metadata": {
    "colab": {
     "base_uri": "https://localhost:8080/"
    },
    "id": "br6u_skiQHc3",
    "outputId": "78977f50-e848-41aa-b20b-175abf7d86d7"
   },
   "outputs": [
    {
     "name": "stdout",
     "output_type": "stream",
     "text": [
      "Knn model confusion matrix:\n",
      "[[578  63]\n",
      " [ 29   7]]\n"
     ]
    }
   ],
   "source": [
    "knn_cm = confusion_matrix(y_test,knn_predictions)\n",
    "print(\"Knn model confusion matrix:\",knn_cm, sep=\"\\n\")"
   ]
  },
  {
   "cell_type": "code",
   "execution_count": 161,
   "metadata": {
    "colab": {
     "base_uri": "https://localhost:8080/",
     "height": 295
    },
    "id": "JyDGtOqeRCTc",
    "outputId": "90fd03b2-3d15-4b22-faea-8638cf5f6678",
    "scrolled": true
   },
   "outputs": [
    {
     "data": {
      "image/png": "[encoded data removed]",
      "text/plain": [
       "<Figure size 640x480 with 2 Axes>"
      ]
     },
     "metadata": {},
     "output_type": "display_data"
    }
   ],
   "source": [
    "ax = plt.subplot()\n",
    "sns.heatmap(knn_cm,annot=True,fmt='g',ax = ax)\n",
    "# labels, title and ticks\n",
    "ax.set_xlabel('Predicted labels');ax.set_ylabel('Actual labels'); \n",
    "ax.set_title('Confusion Matrix'); \n",
    "ax.xaxis.set_ticklabels(['Healthy', 'Stroke'])\n",
    "ax.yaxis.set_ticklabels(['Healthy', 'Stroke']);"
   ]
  },
  {
   "cell_type": "code",
   "execution_count": 162,
   "metadata": {
    "colab": {
     "base_uri": "https://localhost:8080/"
    },
    "id": "NTX6oU8kR3yu",
    "outputId": "15e2b0d8-30fe-48e2-d7f5-f625546896d4"
   },
   "outputs": [
    {
     "name": "stdout",
     "output_type": "stream",
     "text": [
      "              precision    recall  f1-score   support\n",
      "\n",
      "           0       0.95      0.90      0.93       641\n",
      "           1       0.10      0.19      0.13        36\n",
      "\n",
      "    accuracy                           0.86       677\n",
      "   macro avg       0.53      0.55      0.53       677\n",
      "weighted avg       0.91      0.86      0.88       677\n",
      "\n"
     ]
    }
   ],
   "source": [
    "print(classification_report(y_test,knn_predictions))"
   ]
  },
  {
   "cell_type": "markdown",
   "metadata": {
    "id": "7nyTSuBhLpTD"
   },
   "source": [
    "###  Artificial Neural Network (ANN)"
   ]
  },
  {
   "cell_type": "code",
   "execution_count": 163,
   "metadata": {
    "id": "e8FThqzU7u5F"
   },
   "outputs": [],
   "source": [
    "#### Creating Modelwith Pytorch\n",
    "\n",
    "class ANN_Model(nn.Module):\n",
    "    def __init__(self):\n",
    "        super().__init__()\n",
    "        self.f_connected1=nn.Linear(19,40)\n",
    "        self.f_connected2=nn.Linear(40,60)\n",
    "        self.f_connected3=nn.Linear(60,40)\n",
    "        self.f_connected4=nn.Linear(40,20)\n",
    "        self.out=nn.Linear(20,2)\n",
    "    def forward(self,x):\n",
    "        x=F.relu(self.f_connected1(x))\n",
    "        x=F.relu(self.f_connected2(x))\n",
    "        x=F.relu(self.f_connected3(x))\n",
    "        x=F.relu(self.f_connected4(x))        \n",
    "        x=self.out(x)\n",
    "        return x"
   ]
  },
  {
   "cell_type": "code",
   "execution_count": 164,
   "metadata": {
    "id": "zJNL-JZ77u5H"
   },
   "outputs": [],
   "source": [
    "####instantiate my ANN_model\n",
    "torch.manual_seed(20)\n",
    "model=ANN_Model()"
   ]
  },
  {
   "cell_type": "code",
   "execution_count": 165,
   "metadata": {
    "colab": {
     "base_uri": "https://localhost:8080/"
    },
    "id": "S5apNDXW7u5I",
    "outputId": "b0675bad-f7da-4d4c-e154-538fd8b7bf1d"
   },
   "outputs": [
    {
     "data": {
      "text/plain": [
       "<bound method Module.parameters of ANN_Model(\n",
       "  (f_connected1): Linear(in_features=19, out_features=40, bias=True)\n",
       "  (f_connected2): Linear(in_features=40, out_features=60, bias=True)\n",
       "  (f_connected3): Linear(in_features=60, out_features=40, bias=True)\n",
       "  (f_connected4): Linear(in_features=40, out_features=20, bias=True)\n",
       "  (out): Linear(in_features=20, out_features=2, bias=True)\n",
       ")>"
      ]
     },
     "execution_count": 165,
     "metadata": {},
     "output_type": "execute_result"
    }
   ],
   "source": [
    "model.parameters"
   ]
  },
  {
   "cell_type": "code",
   "execution_count": 166,
   "metadata": {
    "id": "LoE5l8PD7u5J"
   },
   "outputs": [],
   "source": [
    "###Backward Propogation-- Define the loss_function,define the optimizer\n",
    "loss_function=nn.CrossEntropyLoss()\n",
    "optimizer=torch.optim.Adam(model.parameters(),lr=0.01)"
   ]
  },
  {
   "cell_type": "code",
   "execution_count": 167,
   "metadata": {},
   "outputs": [],
   "source": [
    "X_train_tnsr = torch.tensor(X_smote_big.to_numpy()).float()\n",
    "X_test_tnsr = torch.tensor(X_test.to_numpy()).float()\n",
    "y_train_tnsr = torch.tensor(y_smote_big.to_numpy()).long()\n",
    "y_test_tnsr = torch.tensor(y_test.to_numpy()).long()"
   ]
  },
  {
   "cell_type": "code",
   "execution_count": 168,
   "metadata": {
    "colab": {
     "base_uri": "https://localhost:8080/"
    },
    "id": "iW40pmGY7u5K",
    "outputId": "f48bdb03-a75d-49dd-f02b-aee88b03611d"
   },
   "outputs": [],
   "source": [
    "epochs=500\n",
    "final_losses=[]\n",
    "for i in range(epochs):\n",
    "    i=i+1\n",
    "    y_pred=model.forward(X_train_tnsr)\n",
    "    loss=loss_function(y_pred,y_train_tnsr)\n",
    "    final_losses.append(loss)\n",
    "    optimizer.zero_grad()\n",
    "    loss.backward()\n",
    "    optimizer.step()"
   ]
  },
  {
   "cell_type": "code",
   "execution_count": 169,
   "metadata": {
    "colab": {
     "base_uri": "https://localhost:8080/"
    },
    "id": "Ya_7ZYsn7u5O",
    "outputId": "bc1f5f5a-f53d-4f53-c901-511723b156b1"
   },
   "outputs": [],
   "source": [
    "#### Prediction In X_test data\n",
    "predictions=[]\n",
    "with torch.no_grad():\n",
    "    for data in X_test_tnsr:\n",
    "        y_pred=model(data)\n",
    "        predictions.append(y_pred.argmax().item())"
   ]
  },
  {
   "cell_type": "code",
   "execution_count": 170,
   "metadata": {
    "colab": {
     "base_uri": "https://localhost:8080/"
    },
    "id": "QE8Hoj-97u5R",
    "outputId": "c02b75d2-d7b1-48cb-a62e-21551e3c3459"
   },
   "outputs": [
    {
     "data": {
      "text/plain": [
       "0.8685376661742984"
      ]
     },
     "execution_count": 170,
     "metadata": {},
     "output_type": "execute_result"
    }
   ],
   "source": [
    "score=accuracy_score(y_test,predictions)\n",
    "score"
   ]
  },
  {
   "cell_type": "code",
   "execution_count": 171,
   "metadata": {
    "colab": {
     "base_uri": "https://localhost:8080/"
    },
    "id": "ueHyEOfe7u5P",
    "outputId": "5040bdba-565c-4dd4-9830-0fa93764fb88"
   },
   "outputs": [],
   "source": [
    "cm=confusion_matrix(y_test,predictions)"
   ]
  },
  {
   "cell_type": "code",
   "execution_count": 172,
   "metadata": {
    "colab": {
     "base_uri": "https://localhost:8080/",
     "height": 406
    },
    "id": "XzjVaBFg7u5Q",
    "outputId": "0ecfb64c-72fc-4d37-dcef-5b52020679f8"
   },
   "outputs": [
    {
     "data": {
      "image/png": "[encoded data removed]",
      "text/plain": [
       "<Figure size 1000x600 with 2 Axes>"
      ]
     },
     "metadata": {},
     "output_type": "display_data"
    }
   ],
   "source": [
    "import seaborn as sns\n",
    "plt.figure(figsize=(10,6))\n",
    "sns.heatmap(cm, annot=True, fmt='g')\n",
    "plt.xlabel('Actual Values')\n",
    "plt.ylabel('Predicted Values')\n",
    "plt.show()"
   ]
  },
  {
   "cell_type": "code",
   "execution_count": 173,
   "metadata": {},
   "outputs": [
    {
     "name": "stdout",
     "output_type": "stream",
     "text": [
      "              precision    recall  f1-score   support\n",
      "\n",
      "           0       0.96      0.90      0.93       641\n",
      "           1       0.14      0.28      0.18        36\n",
      "\n",
      "    accuracy                           0.87       677\n",
      "   macro avg       0.55      0.59      0.56       677\n",
      "weighted avg       0.91      0.87      0.89       677\n",
      "\n"
     ]
    }
   ],
   "source": [
    "print(classification_report(y_test, predictions))"
   ]
  },
  {
   "cell_type": "markdown",
   "metadata": {},
   "source": [
    "### Exporting ANN Model"
   ]
  },
  {
   "cell_type": "code",
   "execution_count": 174,
   "metadata": {
    "colab": {
     "base_uri": "https://localhost:8080/"
    },
    "id": "Up_3s69p7u5V",
    "outputId": "d9226e2d-6af6-4891-85ae-0510e80e969b"
   },
   "outputs": [],
   "source": [
    "batch_size = 1\n",
    "x = torch.randn(batch_size, 19, requires_grad=True)"
   ]
  },
  {
   "cell_type": "code",
   "execution_count": 175,
   "metadata": {
    "id": "v1JyhhlYCZEZ"
   },
   "outputs": [],
   "source": [
    "torch_out = model(x)"
   ]
  },
  {
   "cell_type": "code",
   "execution_count": 176,
   "metadata": {
    "id": "DsuLx4V9CWnr"
   },
   "outputs": [],
   "source": [
    "\n",
    "# Export the model\n",
    "torch.onnx.export(model,               # model being run\n",
    "                  x,                         # model input (or a tuple for multiple inputs)\n",
    "                  \"rf_cva.onnx\",   # where to save the model (can be a file or file-like object)\n",
    "                  export_params=True,        # store the trained parameter weights inside the model file\n",
    "                  opset_version=10,          # the ONNX version to export the model to\n",
    "                  do_constant_folding=True,  # whether to execute constant folding for optimization\n",
    "                  input_names = ['input'],   # the model's input names\n",
    "                  output_names = ['output'], # the model's output names\n",
    "                  dynamic_axes={'input' : {0 : 'batch_size'},    # variable length axes\n",
    "                                'output' : {0 : 'batch_size'}})"
   ]
  },
  {
   "cell_type": "markdown",
   "metadata": {
    "id": "w1daycI67hJu"
   },
   "source": [
    "## **Discussion**"
   ]
  },
  {
   "cell_type": "markdown",
   "metadata": {
    "id": "64AVy5qvGBqX"
   },
   "source": [
    "From the results above, the best model was obtained using ANN. It has the lowest lowest accuracy overall but actually it is the best one to predict the stroke occurence and f1 scores of 0.93 for 'healthy' and 0.18 for 'stroke'. Second one close to it was the KNN. These are better than the accuracies and f1-scores obtained from the other two.\n",
    "\n",
    "We note however that the results are altogether unsatisfactory. Looking at the confusion matrix for the models, we see that for the random forest method, 0% of the actual stroke was predicted by the model, 2.77% for the logistic regression and 19% for KNN. Also these models predicted large numbers of healthy people having stroke leading to lower f1-scores and lower overall accuracies.\n",
    "\n",
    "The failure of our prediction model may be attributed to the unbalanced data used to make it. Our dataset has far more healthy cases than stroke cases. So to address these problems, more data would help enhance our models."
   ]
  },
  {
   "cell_type": "markdown",
   "metadata": {
    "id": "lig5X0t4HsWf"
   },
   "source": [
    "## **Conclusion**"
   ]
  },
  {
   "cell_type": "markdown",
   "metadata": {
    "id": "BazMfU_BHxPc"
   },
   "source": [
    "We have used machine learning methods (random forest classifier, logistic regression, and K-nearest neighbours and ANN) to model the occurence of stroke with a selected dataset. Oversampling was used to address the unbalanced data however this was unsuccessful. The best model was produced using the ANN method with an accuracy of 0.86 and f1 scores of 0.93 for 'healthy' and 0.19 for 'stroke'."
   ]
  },
  {
   "cell_type": "markdown",
   "metadata": {
    "id": "sSIVSXbzro42"
   },
   "source": [
    "## Demo"
   ]
  },
  {
   "cell_type": "markdown",
   "metadata": {},
   "source": [
    "Please feel free to take the exported model and deploy it on-premise or in the cloud using flask, django or any framework you would like."
   ]
  }
 ],
 "metadata": {
  "colab": {
   "collapsed_sections": [],
   "include_colab_link": true,
   "name": "WMU102_Project.ipynb",
   "provenance": []
  },
  "kernelspec": {
   "display_name": "Python 3 (ipykernel)",
   "language": "python",
   "name": "python3"
  },
  "language_info": {
   "codemirror_mode": {
    "name": "ipython",
    "version": 3
   },
   "file_extension": ".py",
   "mimetype": "text/x-python",
   "name": "python",
   "nbconvert_exporter": "python",
   "pygments_lexer": "ipython3",
   "version": "3.9.13"
  }
 },
 "nbformat": 4,
 "nbformat_minor": 1
}
